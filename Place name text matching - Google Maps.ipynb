{
 "cells": [
  {
   "cell_type": "code",
   "execution_count": 1,
   "metadata": {
    "collapsed": false
   },
   "outputs": [],
   "source": [
    "import pandas as pd\n",
    "import numpy as np\n",
    "import csv\n",
    "import pickle\n",
    "import geocoder\n",
    "import time\n",
    "from googlemaps import googlemaps \n",
    "gmaps = googlemaps.Client(tKey, timeout=10)"
   ]
  },
  {
   "cell_type": "markdown",
   "metadata": {},
   "source": [
    "# Text matching"
   ]
  },
  {
   "cell_type": "markdown",
   "metadata": {},
   "source": [
    "Read in the data"
   ]
  },
  {
   "cell_type": "code",
   "execution_count": 2,
   "metadata": {
    "collapsed": false
   },
   "outputs": [
    {
     "data": {
      "text/html": [
       "<div>\n",
       "<table border=\"1\" class=\"dataframe\">\n",
       "  <thead>\n",
       "    <tr style=\"text-align: right;\">\n",
       "      <th></th>\n",
       "      <th>name_short</th>\n",
       "      <th>state</th>\n",
       "    </tr>\n",
       "  </thead>\n",
       "  <tbody>\n",
       "    <tr>\n",
       "      <th>0</th>\n",
       "      <td>AGRA</td>\n",
       "      <td>UTTAR PRADESH</td>\n",
       "    </tr>\n",
       "    <tr>\n",
       "      <th>1</th>\n",
       "      <td>AHMADABAD</td>\n",
       "      <td>GUJARAT</td>\n",
       "    </tr>\n",
       "    <tr>\n",
       "      <th>2</th>\n",
       "      <td>AHMADNAGAR</td>\n",
       "      <td>MAHARASHTRA</td>\n",
       "    </tr>\n",
       "    <tr>\n",
       "      <th>3</th>\n",
       "      <td>AJMER</td>\n",
       "      <td>RAJASTHAN</td>\n",
       "    </tr>\n",
       "    <tr>\n",
       "      <th>4</th>\n",
       "      <td>AKOLA</td>\n",
       "      <td>MAHARASHTRA</td>\n",
       "    </tr>\n",
       "  </tbody>\n",
       "</table>\n",
       "</div>"
      ],
      "text/plain": [
       "   name_short          state\n",
       "0        AGRA  UTTAR PRADESH\n",
       "1   AHMADABAD        GUJARAT\n",
       "2  AHMADNAGAR    MAHARASHTRA\n",
       "3       AJMER      RAJASTHAN\n",
       "4       AKOLA    MAHARASHTRA"
      ]
     },
     "execution_count": 2,
     "metadata": {},
     "output_type": "execute_result"
    }
   ],
   "source": [
    "rraw = pd.read_csv(\"/Users/timothysweetser/Box Sync/Anna/village_kin/kin_locations_noexactmatch_clean.csv\", dtype=str)\n",
    "raw = rraw['village_kin']\n",
    "raw = raw[~pd.isnull(raw)]\n",
    "clean = pd.read_csv(\"/Users/timothysweetser/Box Sync/Anna/village_kin/clean_names.csv\", dtype=str)\n",
    "clean['state'][pd.isnull(clean['state'])] = 'NONE'\n",
    "clean.head()"
   ]
  },
  {
   "cell_type": "code",
   "execution_count": 9,
   "metadata": {
    "collapsed": false
   },
   "outputs": [
    {
     "name": "stdout",
     "output_type": "stream",
     "text": [
      "False\n",
      "True\n"
     ]
    },
    {
     "data": {
      "text/plain": [
       "'Vasai, Maharashtra, India'"
      ]
     },
     "execution_count": 9,
     "metadata": {},
     "output_type": "execute_result"
    }
   ],
   "source": [
    "place = 'VASAI'\n",
    "print place in raw\n",
    "print place in matches.keys()\n",
    "matches[place]"
   ]
  },
  {
   "cell_type": "code",
   "execution_count": 12,
   "metadata": {
    "collapsed": false
   },
   "outputs": [
    {
     "data": {
      "text/html": [
       "<div>\n",
       "<table border=\"1\" class=\"dataframe\">\n",
       "  <thead>\n",
       "    <tr style=\"text-align: right;\">\n",
       "      <th></th>\n",
       "      <th>village_kin</th>\n",
       "      <th>state_respondent</th>\n",
       "    </tr>\n",
       "  </thead>\n",
       "  <tbody>\n",
       "    <tr>\n",
       "      <th>10052</th>\n",
       "      <td>NaN</td>\n",
       "      <td>ORISSA</td>\n",
       "    </tr>\n",
       "  </tbody>\n",
       "</table>\n",
       "</div>"
      ],
      "text/plain": [
       "      village_kin state_respondent\n",
       "10052         NaN           ORISSA"
      ]
     },
     "execution_count": 12,
     "metadata": {},
     "output_type": "execute_result"
    }
   ],
   "source": [
    "rraw[pd.isnull(rraw['village_kin'])]"
   ]
  },
  {
   "cell_type": "markdown",
   "metadata": {},
   "source": [
    "### File input/output"
   ]
  },
  {
   "cell_type": "code",
   "execution_count": 6,
   "metadata": {
    "collapsed": false
   },
   "outputs": [],
   "source": [
    "def save_obj(obj, name ):\n",
    "    with open(name + '.pkl', 'wb') as f:\n",
    "        pickle.dump(obj, f, pickle.HIGHEST_PROTOCOL)\n",
    "\n",
    "def load_obj(name ):\n",
    "    with open(name + '.pkl', 'rb') as f:\n",
    "        return pickle.load(f)"
   ]
  },
  {
   "cell_type": "code",
   "execution_count": 7,
   "metadata": {
    "collapsed": false
   },
   "outputs": [
    {
     "name": "stdout",
     "output_type": "stream",
     "text": [
      "14757\n"
     ]
    }
   ],
   "source": [
    "filename = \"/Users/timothysweetser/box sync/anna/village_kin/matches_so_far\"\n",
    "matches = load_obj(filename)\n",
    "print len(matches)"
   ]
  },
  {
   "cell_type": "code",
   "execution_count": 86,
   "metadata": {
    "collapsed": true
   },
   "outputs": [],
   "source": [
    "k_no_response = 'no response from google API'\n",
    "def geocode_api(place):\n",
    "    # use google API directly, using API key\n",
    "    try: \n",
    "        gc = gmaps.geocode(place + ', INDIA')\n",
    "        time.sleep(2)\n",
    "        if len(gc) > 0:\n",
    "            return gc[0]\n",
    "        else:\n",
    "            return 'NA'\n",
    "    except:\n",
    "        return k_no_response\n",
    "\n",
    "def geocode_ip(place):\n",
    "    # use geocoder, which depends on IP address\n",
    "    gc = geocoder.google(place + ', INDIA')\n",
    "    time.sleep(2)\n",
    "    if gc.address == None:\n",
    "        return 'NA'\n",
    "    else:\n",
    "        return gc"
   ]
  },
  {
   "cell_type": "code",
   "execution_count": 29,
   "metadata": {
    "collapsed": false
   },
   "outputs": [
    {
     "name": "stdout",
     "output_type": "stream",
     "text": [
      "Limba, Maharashtra, India\n",
      "{u'lat': 18.6313414, u'lng': 77.6335659}\n"
     ]
    }
   ],
   "source": [
    "print gc[0]['formatted_address']\n",
    "print gc[0]['geometry']['location']"
   ]
  },
  {
   "cell_type": "code",
   "execution_count": 7,
   "metadata": {
    "collapsed": false
   },
   "outputs": [
    {
     "name": "stdout",
     "output_type": "stream",
     "text": [
      "14370\n",
      "14400\n",
      "14430\n",
      "14460\n",
      "14490\n",
      "14520\n",
      "14550\n",
      "14580\n",
      "14610\n",
      "14640\n",
      "14670\n",
      "14700\n",
      "14730\n"
     ]
    }
   ],
   "source": [
    "for place in raw:\n",
    "    if not (place in matches.keys()):\n",
    "        # first pass done with a mix of ip and api calls"
   ]
  },
  {
   "cell_type": "code",
   "execution_count": 36,
   "metadata": {
    "collapsed": false
   },
   "outputs": [
    {
     "name": "stdout",
     "output_type": "stream",
     "text": [
      "14757\n"
     ]
    }
   ],
   "source": [
    "print len(matches)\n",
    "save_obj(matches, filename)"
   ]
  },
  {
   "cell_type": "code",
   "execution_count": 13,
   "metadata": {
    "collapsed": false
   },
   "outputs": [
    {
     "name": "stdout",
     "output_type": "stream",
     "text": [
      "There are 14757 total\n",
      "14757 have been done \n",
      "There are 0 left to do\n"
     ]
    }
   ],
   "source": [
    "print \"There are %d total\" % raw.nunique()\n",
    "print \"%d have been done \" % len(matches)\n",
    "print \"There are %d left to do\" %(raw.nunique() - len(matches))"
   ]
  },
  {
   "cell_type": "code",
   "execution_count": 27,
   "metadata": {
    "collapsed": false
   },
   "outputs": [
    {
     "name": "stdout",
     "output_type": "stream",
     "text": [
      "15390\n",
      "15389\n",
      "     village_kin state_respondent                             GMaps match\n",
      "0       CHAMARAM      WEST BENGAL                                      NA\n",
      "1    PUDARIPATTY       TAMIL NADU                                      NA\n",
      "2  CHERUGOLPIZHA           KERALA            Cherukolpuzha, Kerala, India\n",
      "3         PIPREE   MADHYA PRADESH     Pipree, Uttar Pradesh 272002, India\n",
      "4      POONGNOOR   ANDHRA PRADESH  Punganur, Andhra Pradesh 517247, India\n",
      "6780 had no match\n"
     ]
    },
    {
     "data": {
      "text/html": [
       "<div>\n",
       "<table border=\"1\" class=\"dataframe\">\n",
       "  <thead>\n",
       "    <tr style=\"text-align: right;\">\n",
       "      <th></th>\n",
       "      <th>village_kin</th>\n",
       "      <th>state_respondent</th>\n",
       "      <th>GMaps match</th>\n",
       "    </tr>\n",
       "  </thead>\n",
       "  <tbody>\n",
       "    <tr>\n",
       "      <th>15371</th>\n",
       "      <td>MANEPALLI</td>\n",
       "      <td>ANDHRA PRADESH</td>\n",
       "      <td>NA</td>\n",
       "    </tr>\n",
       "    <tr>\n",
       "      <th>15374</th>\n",
       "      <td>KUTHALAM</td>\n",
       "      <td>TAMIL NADU</td>\n",
       "      <td>NA</td>\n",
       "    </tr>\n",
       "    <tr>\n",
       "      <th>15375</th>\n",
       "      <td>TANWADI</td>\n",
       "      <td>MAHARASHTRA</td>\n",
       "      <td>NA</td>\n",
       "    </tr>\n",
       "    <tr>\n",
       "      <th>15378</th>\n",
       "      <td>SELA</td>\n",
       "      <td>RAJASTHAN</td>\n",
       "      <td>NA</td>\n",
       "    </tr>\n",
       "    <tr>\n",
       "      <th>15379</th>\n",
       "      <td>SOMTEPALLI</td>\n",
       "      <td>ANDHRA PRADESH</td>\n",
       "      <td>NA</td>\n",
       "    </tr>\n",
       "    <tr>\n",
       "      <th>15382</th>\n",
       "      <td>GHANERAM</td>\n",
       "      <td>RAJASTHAN</td>\n",
       "      <td>NA</td>\n",
       "    </tr>\n",
       "    <tr>\n",
       "      <th>15383</th>\n",
       "      <td>TAMILNADU</td>\n",
       "      <td>KERALA</td>\n",
       "      <td>NA</td>\n",
       "    </tr>\n",
       "    <tr>\n",
       "      <th>15385</th>\n",
       "      <td>SARSHA</td>\n",
       "      <td>HARYANA</td>\n",
       "      <td>NA</td>\n",
       "    </tr>\n",
       "    <tr>\n",
       "      <th>15386</th>\n",
       "      <td>SODAKO</td>\n",
       "      <td>HARYANA</td>\n",
       "      <td>NA</td>\n",
       "    </tr>\n",
       "    <tr>\n",
       "      <th>15388</th>\n",
       "      <td>MALLAGODU</td>\n",
       "      <td>TAMIL NADU</td>\n",
       "      <td>NA</td>\n",
       "    </tr>\n",
       "  </tbody>\n",
       "</table>\n",
       "</div>"
      ],
      "text/plain": [
       "      village_kin state_respondent GMaps match\n",
       "15371   MANEPALLI   ANDHRA PRADESH          NA\n",
       "15374    KUTHALAM       TAMIL NADU          NA\n",
       "15375     TANWADI      MAHARASHTRA          NA\n",
       "15378        SELA        RAJASTHAN          NA\n",
       "15379  SOMTEPALLI   ANDHRA PRADESH          NA\n",
       "15382    GHANERAM        RAJASTHAN          NA\n",
       "15383   TAMILNADU           KERALA          NA\n",
       "15385      SARSHA          HARYANA          NA\n",
       "15386      SODAKO          HARYANA          NA\n",
       "15388   MALLAGODU       TAMIL NADU          NA"
      ]
     },
     "execution_count": 27,
     "metadata": {},
     "output_type": "execute_result"
    }
   ],
   "source": [
    "resultsDF = pd.DataFrame.from_dict(matches, orient='index').reset_index()\n",
    "resultsDF.columns = ['village_kin', 'GMaps match']\n",
    "resultsDF = resultsDF.merge(rraw, 'inner', 'village_kin')\n",
    "\n",
    "print len(rraw.index)\n",
    "print len(resultsDF.index) # dropped 1 NA\n",
    "resultsDF = resultsDF[['village_kin', 'state_respondent', 'GMaps match']]\n",
    "print resultsDF.head()\n",
    "no_match = resultsDF['GMaps match'] == 'NA'\n",
    "print \"%d had no match\" % sum(no_match)\n",
    "import random\n",
    "resultsDF.ix[no_match].tail(10)"
   ]
  },
  {
   "cell_type": "code",
   "execution_count": 35,
   "metadata": {
    "collapsed": false
   },
   "outputs": [],
   "source": [
    "# write to file\n",
    "filename = \"/Users/timothysweetser/Box Sync/Anna/village_kin/google maps suggestions.txt\"\n",
    "resultsDF.to_csv(filename, sep=\"\\t\", index=False, encoding='utf-8')"
   ]
  },
  {
   "cell_type": "markdown",
   "metadata": {},
   "source": [
    "### Second pass - add lat/long"
   ]
  },
  {
   "cell_type": "code",
   "execution_count": 166,
   "metadata": {
    "collapsed": false
   },
   "outputs": [],
   "source": [
    "#take2 = {}\n",
    "for place, val in matches.iteritems():\n",
    "    if place not in take2.keys():\n",
    "        take2[place] = geocode_api(place)\n",
    "\n",
    "save_obj(take2, \"/Users/timothysweetser/box sync/anna/village_kin/matches_take2\")"
   ]
  },
  {
   "cell_type": "code",
   "execution_count": 167,
   "metadata": {
    "collapsed": false
   },
   "outputs": [
    {
     "name": "stdout",
     "output_type": "stream",
     "text": [
      "3643\n"
     ]
    }
   ],
   "source": [
    "counter = 0L\n",
    "for val in take2.values():\n",
    "    if val == 'NA':\n",
    "        counter += 1\n",
    "print counter"
   ]
  },
  {
   "cell_type": "code",
   "execution_count": 168,
   "metadata": {
    "collapsed": false
   },
   "outputs": [
    {
     "name": "stdout",
     "output_type": "stream",
     "text": [
      "42\n"
     ]
    }
   ],
   "source": [
    "counter = 0L\n",
    "for val in take2.values():\n",
    "    if val == k_no_response:\n",
    "        counter += 1\n",
    "print counter"
   ]
  },
  {
   "cell_type": "code",
   "execution_count": 169,
   "metadata": {
    "collapsed": false
   },
   "outputs": [
    {
     "data": {
      "text/plain": [
       "14757"
      ]
     },
     "execution_count": 169,
     "metadata": {},
     "output_type": "execute_result"
    }
   ],
   "source": [
    "len(take2)"
   ]
  },
  {
   "cell_type": "code",
   "execution_count": 94,
   "metadata": {
    "collapsed": false
   },
   "outputs": [
    {
     "name": "stdout",
     "output_type": "stream",
     "text": [
      "RANGANAYAKANH KOPPALO\n",
      "HULKERE JKOPLU\n",
      "KAUARVRAVHI\n",
      "KAMRIREDDY WARIPLLU\n",
      "MADEKE RANHALLD\n",
      "MALLANAM PATTEY\n",
      "SHANGH RAHDIH\n",
      "MALLLANAM PATTY\n",
      "RANGAOANDEB\n",
      "AMARSIN GHWRA\n",
      "NADLNIDHAURA\n",
      "BHATVA POTIEE\n",
      "PEDDATALA KUNTLA\n",
      "SAREMRURUR\n",
      "GHUMUNVARHI\n",
      "PADOALIN GAVAVASA\n",
      "BANDIMA KANAKOPALU\n",
      "DHADHUUAMU PATTI\n",
      "NENGEGOUDA KOPPLU\n",
      "PERAMBOTLA PELAM\n",
      "VALKAM- OINNI\n",
      "PAPPALINSARHM\n",
      "MADAKERANALLLI\n",
      "FRAND NAGAR BORGHDA\n",
      "THVVARAKVRIGHI\n",
      "PERAMROTLA PLEM\n",
      "BILLASWAR RASUI\n",
      "KAMREDY WARI PALLE\n",
      "PAPPAUNGAVILASA\n",
      "KDAIKA PALIIA\n",
      "SARHUNVA\n",
      "SAPBUVANUDAI\n",
      "PERAMBITLA PACEM\n",
      "PERAMBOTLA PRLEM\n",
      "PEDDAYAKLLA KUNTLA\n",
      "KEBNFARARA                   \u0002\n"
     ]
    }
   ],
   "source": [
    "# try 'no responses' again\n",
    "for place, val in take2.iteritems():\n",
    "    if val == 'no response from google API':\n",
    "        #take2[place] = geocode_api(place)\n",
    "        print place"
   ]
  },
  {
   "cell_type": "code",
   "execution_count": 179,
   "metadata": {
    "collapsed": true
   },
   "outputs": [],
   "source": [
    "save_obj(take2, \"/Users/timothysweetser/box sync/anna/village_kin/matches_take2\")"
   ]
  },
  {
   "cell_type": "code",
   "execution_count": 171,
   "metadata": {
    "collapsed": false
   },
   "outputs": [
    {
     "data": {
      "text/plain": [
       "u'ULM Amangani, Garhi Bolni Road, Shabajpur Khalsa, Haryana 123110, India'"
      ]
     },
     "execution_count": 171,
     "metadata": {},
     "output_type": "execute_result"
    }
   ],
   "source": [
    "take2[take2.keys()[15]]['formatted_address']"
   ]
  },
  {
   "cell_type": "code",
   "execution_count": 173,
   "metadata": {
    "collapsed": false
   },
   "outputs": [
    {
     "name": "stdout",
     "output_type": "stream",
     "text": [
      "28.1573853\n",
      "76.6333508\n"
     ]
    }
   ],
   "source": [
    "print take2[take2.keys()[15]]['geometry']['location']['lat']\n",
    "print take2[take2.keys()[15]]['geometry']['location']['lng']"
   ]
  },
  {
   "cell_type": "code",
   "execution_count": 174,
   "metadata": {
    "collapsed": false
   },
   "outputs": [],
   "source": [
    "take2_select = {}\n",
    "for place, val in take2.iteritems():\n",
    "    if type(val) == dict:\n",
    "        take2_select[place] = {'GMaps match':val['formatted_address'], \\\n",
    "            'latitude':val['geometry']['location']['lat'], 'longitude':val['geometry']['location']['lng']}\n",
    "    else:\n",
    "        take2_select[place] = {'GMaps match': 'NA', 'latitude':np.nan, 'longitude':np.nan}\n",
    "        \n",
    "take2_select = pd.DataFrame.from_dict(take2_select, orient='index').reset_index()\n",
    "take2_select.rename(columns={'index':'village_kin'}, inplace=True)"
   ]
  },
  {
   "cell_type": "code",
   "execution_count": 175,
   "metadata": {
    "collapsed": false
   },
   "outputs": [],
   "source": [
    "# merge in state_respondent\n",
    "take2_select = take2_select.merge(rraw, 'inner', 'village_kin')"
   ]
  },
  {
   "cell_type": "code",
   "execution_count": 176,
   "metadata": {
    "collapsed": false
   },
   "outputs": [
    {
     "data": {
      "text/html": [
       "<div>\n",
       "<table border=\"1\" class=\"dataframe\">\n",
       "  <thead>\n",
       "    <tr style=\"text-align: right;\">\n",
       "      <th></th>\n",
       "      <th>village_kin</th>\n",
       "      <th>state_respondent</th>\n",
       "      <th>GMaps match</th>\n",
       "      <th>latitude</th>\n",
       "      <th>longitude</th>\n",
       "    </tr>\n",
       "  </thead>\n",
       "  <tbody>\n",
       "    <tr>\n",
       "      <th>0</th>\n",
       "      <td>A.KUNTLA</td>\n",
       "      <td>ANDHRA PRADESH</td>\n",
       "      <td>Khoontla, Rajasthan 303326, India</td>\n",
       "      <td>26.961655</td>\n",
       "      <td>76.545933</td>\n",
       "    </tr>\n",
       "    <tr>\n",
       "      <th>1</th>\n",
       "      <td>AADAR SHNAGAR</td>\n",
       "      <td>MADHYA PRADESH</td>\n",
       "      <td>Aadhar Society, Aadhar Society, Satyam Park So...</td>\n",
       "      <td>22.297099</td>\n",
       "      <td>73.228433</td>\n",
       "    </tr>\n",
       "    <tr>\n",
       "      <th>2</th>\n",
       "      <td>AADARI</td>\n",
       "      <td>GUJARAT</td>\n",
       "      <td>Adari, Uttar Pradesh 275102, India</td>\n",
       "      <td>25.979569</td>\n",
       "      <td>83.611819</td>\n",
       "    </tr>\n",
       "    <tr>\n",
       "      <th>3</th>\n",
       "      <td>AADI</td>\n",
       "      <td>HARYANA</td>\n",
       "      <td>Adi, Karnataka 591215, India</td>\n",
       "      <td>16.496157</td>\n",
       "      <td>74.372676</td>\n",
       "    </tr>\n",
       "    <tr>\n",
       "      <th>4</th>\n",
       "      <td>AADRI</td>\n",
       "      <td>GUJARAT</td>\n",
       "      <td>Adri, Gujarat 362255, India</td>\n",
       "      <td>20.964116</td>\n",
       "      <td>70.289546</td>\n",
       "    </tr>\n",
       "  </tbody>\n",
       "</table>\n",
       "</div>"
      ],
      "text/plain": [
       "     village_kin state_respondent  \\\n",
       "0       A.KUNTLA   ANDHRA PRADESH   \n",
       "1  AADAR SHNAGAR   MADHYA PRADESH   \n",
       "2         AADARI          GUJARAT   \n",
       "3           AADI          HARYANA   \n",
       "4          AADRI          GUJARAT   \n",
       "\n",
       "                                         GMaps match   latitude  longitude  \n",
       "0                  Khoontla, Rajasthan 303326, India  26.961655  76.545933  \n",
       "1  Aadhar Society, Aadhar Society, Satyam Park So...  22.297099  73.228433  \n",
       "2                 Adari, Uttar Pradesh 275102, India  25.979569  83.611819  \n",
       "3                       Adi, Karnataka 591215, India  16.496157  74.372676  \n",
       "4                        Adri, Gujarat 362255, India  20.964116  70.289546  "
      ]
     },
     "execution_count": 176,
     "metadata": {},
     "output_type": "execute_result"
    }
   ],
   "source": [
    "take2_select = take2_select[['village_kin', 'state_respondent', 'GMaps match', 'latitude', 'longitude']]\n",
    "take2_select.head()"
   ]
  },
  {
   "cell_type": "code",
   "execution_count": 165,
   "metadata": {
    "collapsed": false
   },
   "outputs": [],
   "source": [
    "take2_select.to_csv('/Users/timothysweetser/Box Sync/Anna/village_kin/google maps suggestions lat long.txt', \\\n",
    "                    sep='\\t', index=False, encoding='utf-8')"
   ]
  },
  {
   "cell_type": "code",
   "execution_count": 177,
   "metadata": {
    "collapsed": false
   },
   "outputs": [
    {
     "data": {
      "text/plain": [
       "15389"
      ]
     },
     "execution_count": 177,
     "metadata": {},
     "output_type": "execute_result"
    }
   ],
   "source": [
    "len(take2_select.index)"
   ]
  },
  {
   "cell_type": "code",
   "execution_count": 178,
   "metadata": {
    "collapsed": false
   },
   "outputs": [
    {
     "data": {
      "text/html": [
       "<div>\n",
       "<table border=\"1\" class=\"dataframe\">\n",
       "  <thead>\n",
       "    <tr style=\"text-align: right;\">\n",
       "      <th></th>\n",
       "      <th>village_kin</th>\n",
       "      <th>state_respondent</th>\n",
       "      <th>GMaps match</th>\n",
       "      <th>latitude</th>\n",
       "      <th>longitude</th>\n",
       "    </tr>\n",
       "  </thead>\n",
       "  <tbody>\n",
       "    <tr>\n",
       "      <th>0</th>\n",
       "      <td>A.KUNTLA</td>\n",
       "      <td>ANDHRA PRADESH</td>\n",
       "      <td>Khoontla, Rajasthan 303326, India</td>\n",
       "      <td>26.961655</td>\n",
       "      <td>76.545933</td>\n",
       "    </tr>\n",
       "    <tr>\n",
       "      <th>1</th>\n",
       "      <td>AADAR SHNAGAR</td>\n",
       "      <td>MADHYA PRADESH</td>\n",
       "      <td>Aadhar Society, Aadhar Society, Satyam Park So...</td>\n",
       "      <td>22.297099</td>\n",
       "      <td>73.228433</td>\n",
       "    </tr>\n",
       "    <tr>\n",
       "      <th>2</th>\n",
       "      <td>AADARI</td>\n",
       "      <td>GUJARAT</td>\n",
       "      <td>Adari, Uttar Pradesh 275102, India</td>\n",
       "      <td>25.979569</td>\n",
       "      <td>83.611819</td>\n",
       "    </tr>\n",
       "    <tr>\n",
       "      <th>3</th>\n",
       "      <td>AADI</td>\n",
       "      <td>HARYANA</td>\n",
       "      <td>Adi, Karnataka 591215, India</td>\n",
       "      <td>16.496157</td>\n",
       "      <td>74.372676</td>\n",
       "    </tr>\n",
       "    <tr>\n",
       "      <th>4</th>\n",
       "      <td>AADRI</td>\n",
       "      <td>GUJARAT</td>\n",
       "      <td>Adri, Gujarat 362255, India</td>\n",
       "      <td>20.964116</td>\n",
       "      <td>70.289546</td>\n",
       "    </tr>\n",
       "  </tbody>\n",
       "</table>\n",
       "</div>"
      ],
      "text/plain": [
       "     village_kin state_respondent  \\\n",
       "0       A.KUNTLA   ANDHRA PRADESH   \n",
       "1  AADAR SHNAGAR   MADHYA PRADESH   \n",
       "2         AADARI          GUJARAT   \n",
       "3           AADI          HARYANA   \n",
       "4          AADRI          GUJARAT   \n",
       "\n",
       "                                         GMaps match   latitude  longitude  \n",
       "0                  Khoontla, Rajasthan 303326, India  26.961655  76.545933  \n",
       "1  Aadhar Society, Aadhar Society, Satyam Park So...  22.297099  73.228433  \n",
       "2                 Adari, Uttar Pradesh 275102, India  25.979569  83.611819  \n",
       "3                       Adi, Karnataka 591215, India  16.496157  74.372676  \n",
       "4                        Adri, Gujarat 362255, India  20.964116  70.289546  "
      ]
     },
     "execution_count": 178,
     "metadata": {},
     "output_type": "execute_result"
    }
   ],
   "source": [
    "take2_select.head()"
   ]
  },
  {
   "cell_type": "code",
   "execution_count": null,
   "metadata": {
    "collapsed": true
   },
   "outputs": [],
   "source": []
  }
 ],
 "metadata": {
  "kernelspec": {
   "display_name": "Python 2",
   "language": "python",
   "name": "python2"
  },
  "language_info": {
   "codemirror_mode": {
    "name": "ipython",
    "version": 2
   },
   "file_extension": ".py",
   "mimetype": "text/x-python",
   "name": "python",
   "nbconvert_exporter": "python",
   "pygments_lexer": "ipython2",
   "version": "2.7.10"
  }
 },
 "nbformat": 4,
 "nbformat_minor": 0
}
