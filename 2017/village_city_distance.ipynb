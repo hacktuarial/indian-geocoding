{
 "cells": [
  {
   "cell_type": "markdown",
   "metadata": {},
   "source": [
    "### For each village, find the nearest city"
   ]
  },
  {
   "cell_type": "code",
   "execution_count": 1,
   "metadata": {
    "collapsed": true
   },
   "outputs": [],
   "source": [
    "import pandas as pd\n",
    "import numpy as np\n",
    "\n",
    "from utils import *\n",
    "\n",
    "import seaborn as sns\n",
    "import matplotlib.pyplot as plt\n",
    "%matplotlib inline"
   ]
  },
  {
   "cell_type": "markdown",
   "metadata": {},
   "source": [
    "(a) village_coords_414 (keep villageid in output file) AND mc_coords_v2_june2017 "
   ]
  },
  {
   "cell_type": "code",
   "execution_count": 2,
   "metadata": {},
   "outputs": [
    {
     "data": {
      "text/html": [
       "<div>\n",
       "<style>\n",
       "    .dataframe thead tr:only-child th {\n",
       "        text-align: right;\n",
       "    }\n",
       "\n",
       "    .dataframe thead th {\n",
       "        text-align: left;\n",
       "    }\n",
       "\n",
       "    .dataframe tbody tr th {\n",
       "        vertical-align: top;\n",
       "    }\n",
       "</style>\n",
       "<table border=\"1\" class=\"dataframe\">\n",
       "  <thead>\n",
       "    <tr style=\"text-align: right;\">\n",
       "      <th></th>\n",
       "      <th>villageid</th>\n",
       "      <th>latitude</th>\n",
       "      <th>longitude</th>\n",
       "      <th>city_index</th>\n",
       "      <th>distance</th>\n",
       "      <th>city</th>\n",
       "      <th>state</th>\n",
       "    </tr>\n",
       "  </thead>\n",
       "  <tbody>\n",
       "    <tr>\n",
       "      <th>146</th>\n",
       "      <td>147</td>\n",
       "      <td>27.70634</td>\n",
       "      <td>78.08231</td>\n",
       "      <td>191</td>\n",
       "      <td>19.245675</td>\n",
       "      <td>ALIGARH</td>\n",
       "      <td>UTTAR PRADESH</td>\n",
       "    </tr>\n",
       "    <tr>\n",
       "      <th>40</th>\n",
       "      <td>41</td>\n",
       "      <td>19.04735</td>\n",
       "      <td>73.95509</td>\n",
       "      <td>151</td>\n",
       "      <td>49.036032</td>\n",
       "      <td>Pimpri-Chinchwad</td>\n",
       "      <td>MAHARASHTRA</td>\n",
       "    </tr>\n",
       "    <tr>\n",
       "      <th>57</th>\n",
       "      <td>58</td>\n",
       "      <td>20.82350</td>\n",
       "      <td>71.04086</td>\n",
       "      <td>53</td>\n",
       "      <td>97.269961</td>\n",
       "      <td>JUNAGADH</td>\n",
       "      <td>GUJARAT</td>\n",
       "    </tr>\n",
       "    <tr>\n",
       "      <th>229</th>\n",
       "      <td>231</td>\n",
       "      <td>11.02904</td>\n",
       "      <td>79.85069</td>\n",
       "      <td>187</td>\n",
       "      <td>82.401679</td>\n",
       "      <td>THANJAVUR</td>\n",
       "      <td>TAMIL NADU</td>\n",
       "    </tr>\n",
       "    <tr>\n",
       "      <th>41</th>\n",
       "      <td>42</td>\n",
       "      <td>21.23389</td>\n",
       "      <td>77.73949</td>\n",
       "      <td>124</td>\n",
       "      <td>34.211576</td>\n",
       "      <td>AMRAVATI</td>\n",
       "      <td>MAHARASHTRA</td>\n",
       "    </tr>\n",
       "  </tbody>\n",
       "</table>\n",
       "</div>"
      ],
      "text/plain": [
       "     villageid  latitude  longitude  city_index   distance              city  \\\n",
       "146        147  27.70634   78.08231         191  19.245675           ALIGARH   \n",
       "40          41  19.04735   73.95509         151  49.036032  Pimpri-Chinchwad   \n",
       "57          58  20.82350   71.04086          53  97.269961          JUNAGADH   \n",
       "229        231  11.02904   79.85069         187  82.401679         THANJAVUR   \n",
       "41          42  21.23389   77.73949         124  34.211576          AMRAVATI   \n",
       "\n",
       "             state  \n",
       "146  UTTAR PRADESH  \n",
       "40     MAHARASHTRA  \n",
       "57         GUJARAT  \n",
       "229     TAMIL NADU  \n",
       "41     MAHARASHTRA  "
      ]
     },
     "execution_count": 2,
     "metadata": {},
     "output_type": "execute_result"
    }
   ],
   "source": [
    "a = find_closest(\"village_coords_414.csv\", \"mc_coords_v2_june2017.csv\")\n",
    "a.to_csv(\"output/village_coords_414_mc_coords_tn_june2017.csv\", index=False)\n",
    "a.sample(n=5)"
   ]
  },
  {
   "cell_type": "code",
   "execution_count": 3,
   "metadata": {},
   "outputs": [
    {
     "data": {
      "text/plain": [
       "<matplotlib.axes._subplots.AxesSubplot at 0x10a3d45c0>"
      ]
     },
     "execution_count": 3,
     "metadata": {},
     "output_type": "execute_result"
    },
    {
     "data": {
      "image/png": "[encoded data removed]",
      "text/plain": [
       "<matplotlib.figure.Figure at 0x10a3305f8>"
      ]
     },
     "metadata": {},
     "output_type": "display_data"
    }
   ],
   "source": [
    "sns.distplot(a.distance)"
   ]
  },
  {
   "cell_type": "markdown",
   "metadata": {},
   "source": [
    "Repeat this for (b) village_list_tndata_coords_small AND mc_coords_tn_june2017 "
   ]
  },
  {
   "cell_type": "code",
   "execution_count": 4,
   "metadata": {},
   "outputs": [
    {
     "data": {
      "text/html": [
       "<div>\n",
       "<style>\n",
       "    .dataframe thead tr:only-child th {\n",
       "        text-align: right;\n",
       "    }\n",
       "\n",
       "    .dataframe thead th {\n",
       "        text-align: left;\n",
       "    }\n",
       "\n",
       "    .dataframe tbody tr th {\n",
       "        vertical-align: top;\n",
       "    }\n",
       "</style>\n",
       "<table border=\"1\" class=\"dataframe\">\n",
       "  <thead>\n",
       "    <tr style=\"text-align: right;\">\n",
       "      <th></th>\n",
       "      <th>district</th>\n",
       "      <th>tehsil</th>\n",
       "      <th>psu</th>\n",
       "      <th>SUB_DISTRI</th>\n",
       "      <th>longitude</th>\n",
       "      <th>latitude</th>\n",
       "      <th>city_index</th>\n",
       "      <th>distance</th>\n",
       "      <th>city</th>\n",
       "      <th>state</th>\n",
       "    </tr>\n",
       "  </thead>\n",
       "  <tbody>\n",
       "    <tr>\n",
       "      <th>52</th>\n",
       "      <td>Dharmapuri</td>\n",
       "      <td>Hosur</td>\n",
       "      <td>55</td>\n",
       "      <td>Hosur</td>\n",
       "      <td>77.936034</td>\n",
       "      <td>12.710540</td>\n",
       "      <td>24</td>\n",
       "      <td>49.097070</td>\n",
       "      <td>BANGALORE</td>\n",
       "      <td>KARNATAKA</td>\n",
       "    </tr>\n",
       "    <tr>\n",
       "      <th>1</th>\n",
       "      <td>Thiruvallur</td>\n",
       "      <td>Gummidipoondi</td>\n",
       "      <td>3</td>\n",
       "      <td>Gummidipoondi</td>\n",
       "      <td>80.068823</td>\n",
       "      <td>13.418958</td>\n",
       "      <td>53</td>\n",
       "      <td>42.748190</td>\n",
       "      <td>CHENNAI</td>\n",
       "      <td>TAMIL NADU</td>\n",
       "    </tr>\n",
       "    <tr>\n",
       "      <th>169</th>\n",
       "      <td>Virudhunagar</td>\n",
       "      <td>Kariapatti</td>\n",
       "      <td>184</td>\n",
       "      <td>Kariapatti</td>\n",
       "      <td>78.127092</td>\n",
       "      <td>9.655284</td>\n",
       "      <td>56</td>\n",
       "      <td>27.229876</td>\n",
       "      <td>MADURAI</td>\n",
       "      <td>TAMIL NADU</td>\n",
       "    </tr>\n",
       "    <tr>\n",
       "      <th>80</th>\n",
       "      <td>Viluppuram</td>\n",
       "      <td>Kallakkurichi</td>\n",
       "      <td>84</td>\n",
       "      <td>Kallakkurichi</td>\n",
       "      <td>78.961906</td>\n",
       "      <td>11.679734</td>\n",
       "      <td>58</td>\n",
       "      <td>87.497869</td>\n",
       "      <td>SALEM</td>\n",
       "      <td>TAMIL NADU</td>\n",
       "    </tr>\n",
       "    <tr>\n",
       "      <th>154</th>\n",
       "      <td>Pudukkottai</td>\n",
       "      <td>Alangudi</td>\n",
       "      <td>160</td>\n",
       "      <td>Alangudi</td>\n",
       "      <td>79.038869</td>\n",
       "      <td>10.386006</td>\n",
       "      <td>64</td>\n",
       "      <td>45.657603</td>\n",
       "      <td>THANJAVUR</td>\n",
       "      <td>TAMIL NADU</td>\n",
       "    </tr>\n",
       "  </tbody>\n",
       "</table>\n",
       "</div>"
      ],
      "text/plain": [
       "         district         tehsil  psu     SUB_DISTRI  longitude   latitude  \\\n",
       "52     Dharmapuri          Hosur   55          Hosur  77.936034  12.710540   \n",
       "1     Thiruvallur  Gummidipoondi    3  Gummidipoondi  80.068823  13.418958   \n",
       "169  Virudhunagar     Kariapatti  184     Kariapatti  78.127092   9.655284   \n",
       "80     Viluppuram  Kallakkurichi   84  Kallakkurichi  78.961906  11.679734   \n",
       "154   Pudukkottai       Alangudi  160       Alangudi  79.038869  10.386006   \n",
       "\n",
       "     city_index   distance       city       state  \n",
       "52           24  49.097070  BANGALORE   KARNATAKA  \n",
       "1            53  42.748190    CHENNAI  TAMIL NADU  \n",
       "169          56  27.229876    MADURAI  TAMIL NADU  \n",
       "80           58  87.497869      SALEM  TAMIL NADU  \n",
       "154          64  45.657603  THANJAVUR  TAMIL NADU  "
      ]
     },
     "execution_count": 4,
     "metadata": {},
     "output_type": "execute_result"
    }
   ],
   "source": [
    "b = find_closest(\"village_list_tndata_coords_small.csv\", \"mc_coords_tn_june2017.csv\")\n",
    "b.to_csv(\"output/village_list_tndata_coords_small_mc_coords_tn_june2017.csv\", index=False)\n",
    "b.sample(n=5)"
   ]
  },
  {
   "cell_type": "code",
   "execution_count": 5,
   "metadata": {},
   "outputs": [
    {
     "data": {
      "text/plain": [
       "<matplotlib.axes._subplots.AxesSubplot at 0x10a500e10>"
      ]
     },
     "execution_count": 5,
     "metadata": {},
     "output_type": "execute_result"
    },
    {
     "data": {
      "image/png": "[encoded data removed]",
      "text/plain": [
       "<matplotlib.figure.Figure at 0x10a4cf588>"
      ]
     },
     "metadata": {},
     "output_type": "display_data"
    }
   ],
   "source": [
    "sns.distplot(b.distance)"
   ]
  },
  {
   "cell_type": "code",
   "execution_count": 6,
   "metadata": {},
   "outputs": [
    {
     "data": {
      "text/html": [
       "<div>\n",
       "<style>\n",
       "    .dataframe thead tr:only-child th {\n",
       "        text-align: right;\n",
       "    }\n",
       "\n",
       "    .dataframe thead th {\n",
       "        text-align: left;\n",
       "    }\n",
       "\n",
       "    .dataframe tbody tr th {\n",
       "        vertical-align: top;\n",
       "    }\n",
       "</style>\n",
       "<table border=\"1\" class=\"dataframe\">\n",
       "  <thead>\n",
       "    <tr style=\"text-align: right;\">\n",
       "      <th></th>\n",
       "      <th>district</th>\n",
       "      <th>tehsil</th>\n",
       "      <th>psu</th>\n",
       "      <th>SUB_DISTRI</th>\n",
       "      <th>longitude</th>\n",
       "      <th>latitude</th>\n",
       "      <th>city_index</th>\n",
       "      <th>distance</th>\n",
       "      <th>city</th>\n",
       "      <th>state</th>\n",
       "    </tr>\n",
       "  </thead>\n",
       "  <tbody>\n",
       "    <tr>\n",
       "      <th>0</th>\n",
       "      <td>Thiruvallur</td>\n",
       "      <td>Thiruvallur</td>\n",
       "      <td>1</td>\n",
       "      <td>Thiruvallur</td>\n",
       "      <td>79.897859</td>\n",
       "      <td>13.122751</td>\n",
       "      <td>68</td>\n",
       "      <td>38.252366</td>\n",
       "      <td>KANCHIPURAM</td>\n",
       "      <td>TAMIL NADU</td>\n",
       "    </tr>\n",
       "    <tr>\n",
       "      <th>1</th>\n",
       "      <td>Thiruvallur</td>\n",
       "      <td>Gummidipoondi</td>\n",
       "      <td>3</td>\n",
       "      <td>Gummidipoondi</td>\n",
       "      <td>80.068823</td>\n",
       "      <td>13.418958</td>\n",
       "      <td>53</td>\n",
       "      <td>42.748190</td>\n",
       "      <td>CHENNAI</td>\n",
       "      <td>TAMIL NADU</td>\n",
       "    </tr>\n",
       "    <tr>\n",
       "      <th>2</th>\n",
       "      <td>Thiruvallur</td>\n",
       "      <td>Thiruvallur</td>\n",
       "      <td>4</td>\n",
       "      <td>Thiruvallur</td>\n",
       "      <td>79.897859</td>\n",
       "      <td>13.122751</td>\n",
       "      <td>68</td>\n",
       "      <td>38.252366</td>\n",
       "      <td>KANCHIPURAM</td>\n",
       "      <td>TAMIL NADU</td>\n",
       "    </tr>\n",
       "    <tr>\n",
       "      <th>3</th>\n",
       "      <td>Thiruvallur</td>\n",
       "      <td>Thiruvallur</td>\n",
       "      <td>5</td>\n",
       "      <td>Thiruvallur</td>\n",
       "      <td>79.897859</td>\n",
       "      <td>13.122751</td>\n",
       "      <td>68</td>\n",
       "      <td>38.252366</td>\n",
       "      <td>KANCHIPURAM</td>\n",
       "      <td>TAMIL NADU</td>\n",
       "    </tr>\n",
       "    <tr>\n",
       "      <th>4</th>\n",
       "      <td>Kancheepuram</td>\n",
       "      <td>Maduranthakam</td>\n",
       "      <td>6</td>\n",
       "      <td>Maduranthakam</td>\n",
       "      <td>79.841055</td>\n",
       "      <td>12.462654</td>\n",
       "      <td>68</td>\n",
       "      <td>43.727371</td>\n",
       "      <td>KANCHIPURAM</td>\n",
       "      <td>TAMIL NADU</td>\n",
       "    </tr>\n",
       "  </tbody>\n",
       "</table>\n",
       "</div>"
      ],
      "text/plain": [
       "       district         tehsil  psu     SUB_DISTRI  longitude   latitude  \\\n",
       "0   Thiruvallur    Thiruvallur    1    Thiruvallur  79.897859  13.122751   \n",
       "1   Thiruvallur  Gummidipoondi    3  Gummidipoondi  80.068823  13.418958   \n",
       "2   Thiruvallur    Thiruvallur    4    Thiruvallur  79.897859  13.122751   \n",
       "3   Thiruvallur    Thiruvallur    5    Thiruvallur  79.897859  13.122751   \n",
       "4  Kancheepuram  Maduranthakam    6  Maduranthakam  79.841055  12.462654   \n",
       "\n",
       "   city_index   distance         city       state  \n",
       "0          68  38.252366  KANCHIPURAM  TAMIL NADU  \n",
       "1          53  42.748190      CHENNAI  TAMIL NADU  \n",
       "2          68  38.252366  KANCHIPURAM  TAMIL NADU  \n",
       "3          68  38.252366  KANCHIPURAM  TAMIL NADU  \n",
       "4          68  43.727371  KANCHIPURAM  TAMIL NADU  "
      ]
     },
     "execution_count": 6,
     "metadata": {},
     "output_type": "execute_result"
    }
   ],
   "source": [
    "c = find_closest(\"village_list_tndata_coords_small.csv\", \"pop100plus_coords_tn_june2017.csv\")\n",
    "c.to_csv(\"output/village_list_tndata_coords_small_pop100plus_coords_tn_june2017.csv\", index=False)\n",
    "c.head()"
   ]
  },
  {
   "cell_type": "code",
   "execution_count": 7,
   "metadata": {},
   "outputs": [
    {
     "data": {
      "text/plain": [
       "<matplotlib.axes._subplots.AxesSubplot at 0x10a654b70>"
      ]
     },
     "execution_count": 7,
     "metadata": {},
     "output_type": "execute_result"
    },
    {
     "data": {
      "image/png": "[encoded data removed]",
      "text/plain": [
       "<matplotlib.figure.Figure at 0x10a587b00>"
      ]
     },
     "metadata": {},
     "output_type": "display_data"
    }
   ],
   "source": [
    "sns.distplot(c.distance)"
   ]
  },
  {
   "cell_type": "code",
   "execution_count": 8,
   "metadata": {},
   "outputs": [
    {
     "data": {
      "text/plain": [
       "<matplotlib.text.Text at 0x10a638dd8>"
      ]
     },
     "execution_count": 8,
     "metadata": {},
     "output_type": "execute_result"
    },
    {
     "data": {
      "image/png": "[encoded data removed]",
      "text/plain": [
       "<matplotlib.figure.Figure at 0x10a72fc50>"
      ]
     },
     "metadata": {},
     "output_type": "display_data"
    }
   ],
   "source": [
    "plt.scatter(a.longitude, a.latitude, label=\"a\")\n",
    "plt.scatter(b.longitude, b.latitude, label=\"b\")\n",
    "plt.legend()\n",
    "plt.ylabel(\"latitude\")\n",
    "plt.xlabel(\"longitude\")"
   ]
  },
  {
   "cell_type": "code",
   "execution_count": 9,
   "metadata": {},
   "outputs": [
    {
     "data": {
      "text/html": [
       "<div>\n",
       "<style>\n",
       "    .dataframe thead tr:only-child th {\n",
       "        text-align: right;\n",
       "    }\n",
       "\n",
       "    .dataframe thead th {\n",
       "        text-align: left;\n",
       "    }\n",
       "\n",
       "    .dataframe tbody tr th {\n",
       "        vertical-align: top;\n",
       "    }\n",
       "</style>\n",
       "<table border=\"1\" class=\"dataframe\">\n",
       "  <thead>\n",
       "    <tr style=\"text-align: right;\">\n",
       "      <th></th>\n",
       "      <th>district</th>\n",
       "      <th>tehsil</th>\n",
       "      <th>psu</th>\n",
       "      <th>SUB_DISTRI</th>\n",
       "      <th>longitude</th>\n",
       "      <th>latitude</th>\n",
       "      <th>city_index</th>\n",
       "      <th>distance</th>\n",
       "      <th>city</th>\n",
       "      <th>state</th>\n",
       "    </tr>\n",
       "  </thead>\n",
       "  <tbody>\n",
       "    <tr>\n",
       "      <th>160</th>\n",
       "      <td>Sivaganga</td>\n",
       "      <td>Tirupathur</td>\n",
       "      <td>167</td>\n",
       "      <td>Tirupathur</td>\n",
       "      <td>78.567559</td>\n",
       "      <td>11.36906</td>\n",
       "      <td>58</td>\n",
       "      <td>54.246971</td>\n",
       "      <td>SALEM</td>\n",
       "      <td>TAMIL NADU</td>\n",
       "    </tr>\n",
       "  </tbody>\n",
       "</table>\n",
       "</div>"
      ],
      "text/plain": [
       "      district      tehsil  psu  SUB_DISTRI  longitude  latitude  city_index  \\\n",
       "160  Sivaganga  Tirupathur  167  Tirupathur  78.567559  11.36906          58   \n",
       "\n",
       "      distance   city       state  \n",
       "160  54.246971  SALEM  TAMIL NADU  "
      ]
     },
     "execution_count": 9,
     "metadata": {},
     "output_type": "execute_result"
    }
   ],
   "source": [
    "b.query(\"psu == 167\")"
   ]
  },
  {
   "cell_type": "code",
   "execution_count": 10,
   "metadata": {},
   "outputs": [
    {
     "data": {
      "text/html": [
       "<div>\n",
       "<style>\n",
       "    .dataframe thead tr:only-child th {\n",
       "        text-align: right;\n",
       "    }\n",
       "\n",
       "    .dataframe thead th {\n",
       "        text-align: left;\n",
       "    }\n",
       "\n",
       "    .dataframe tbody tr th {\n",
       "        vertical-align: top;\n",
       "    }\n",
       "</style>\n",
       "<table border=\"1\" class=\"dataframe\">\n",
       "  <thead>\n",
       "    <tr style=\"text-align: right;\">\n",
       "      <th></th>\n",
       "      <th>district</th>\n",
       "      <th>tehsil</th>\n",
       "      <th>psu</th>\n",
       "      <th>SUB_DISTRI</th>\n",
       "      <th>longitude</th>\n",
       "      <th>latitude</th>\n",
       "      <th>city_index</th>\n",
       "      <th>distance</th>\n",
       "      <th>city</th>\n",
       "      <th>state</th>\n",
       "    </tr>\n",
       "  </thead>\n",
       "  <tbody>\n",
       "    <tr>\n",
       "      <th>160</th>\n",
       "      <td>Sivaganga</td>\n",
       "      <td>Tirupathur</td>\n",
       "      <td>167</td>\n",
       "      <td>Tirupathur</td>\n",
       "      <td>78.567559</td>\n",
       "      <td>11.36906</td>\n",
       "      <td>58</td>\n",
       "      <td>54.246971</td>\n",
       "      <td>SALEM</td>\n",
       "      <td>TAMIL NADU</td>\n",
       "    </tr>\n",
       "  </tbody>\n",
       "</table>\n",
       "</div>"
      ],
      "text/plain": [
       "      district      tehsil  psu  SUB_DISTRI  longitude  latitude  city_index  \\\n",
       "160  Sivaganga  Tirupathur  167  Tirupathur  78.567559  11.36906          58   \n",
       "\n",
       "      distance   city       state  \n",
       "160  54.246971  SALEM  TAMIL NADU  "
      ]
     },
     "execution_count": 10,
     "metadata": {},
     "output_type": "execute_result"
    }
   ],
   "source": [
    "c.query(\"psu == 167\")"
   ]
  },
  {
   "cell_type": "markdown",
   "metadata": {},
   "source": [
    "Since the cities in c are a superset of the cities in b, the distances in c should be less than or equal to those in b. Verify:"
   ]
  },
  {
   "cell_type": "code",
   "execution_count": 11,
   "metadata": {},
   "outputs": [
    {
     "data": {
      "text/plain": [
       "<matplotlib.text.Text at 0x10a78b8d0>"
      ]
     },
     "execution_count": 11,
     "metadata": {},
     "output_type": "execute_result"
    },
    {
     "data": {
      "image/png": "[encoded data removed]",
      "text/plain": [
       "<matplotlib.figure.Figure at 0x10a6f0e10>"
      ]
     },
     "metadata": {},
     "output_type": "display_data"
    }
   ],
   "source": [
    "df_comparo = pd.merge(b[[\"psu\", \"distance\"]],\n",
    "                      c[[\"psu\", \"distance\"]],\n",
    "                      \"inner\", \"psu\", \n",
    "                      suffixes=[\"_b\", \"_c\"])\n",
    "plt.scatter(df_comparo.distance_b, df_comparo.distance_c)\n",
    "plt.xlabel(\"b\")\n",
    "plt.ylabel(\"c\")"
   ]
  },
  {
   "cell_type": "code",
   "execution_count": 12,
   "metadata": {},
   "outputs": [],
   "source": [
    "assert (df_comparo[\"distance_c\"] <= df_comparo[\"distance_b\"]).all()"
   ]
  },
  {
   "cell_type": "code",
   "execution_count": null,
   "metadata": {
    "collapsed": true
   },
   "outputs": [],
   "source": []
  }
 ],
 "metadata": {
  "kernelspec": {
   "display_name": "Python 3",
   "language": "python",
   "name": "python3"
  },
  "language_info": {
   "codemirror_mode": {
    "name": "ipython",
    "version": 3
   },
   "file_extension": ".py",
   "mimetype": "text/x-python",
   "name": "python",
   "nbconvert_exporter": "python",
   "pygments_lexer": "ipython3",
   "version": "3.6.1"
  }
 },
 "nbformat": 4,
 "nbformat_minor": 1
}
