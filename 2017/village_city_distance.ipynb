{
 "cells": [
  {
   "cell_type": "markdown",
   "metadata": {},
   "source": [
    "### For each village, find the nearest city"
   ]
  },
  {
   "cell_type": "code",
   "execution_count": 1,
   "metadata": {
    "collapsed": true
   },
   "outputs": [],
   "source": [
    "import pandas as pd\n",
    "import numpy as np\n",
    "\n",
    "from utils import *\n",
    "\n",
    "import seaborn as sns\n",
    "import matplotlib.pyplot as plt\n",
    "%matplotlib inline"
   ]
  },
  {
   "cell_type": "markdown",
   "metadata": {},
   "source": [
    "(a) village_coords_414 (keep villageid in output file) AND mc_coords_v2_june2017 "
   ]
  },
  {
   "cell_type": "code",
   "execution_count": 2,
   "metadata": {},
   "outputs": [
    {
     "data": {
      "text/html": [
       "<div>\n",
       "<style>\n",
       "    .dataframe thead tr:only-child th {\n",
       "        text-align: right;\n",
       "    }\n",
       "\n",
       "    .dataframe thead th {\n",
       "        text-align: left;\n",
       "    }\n",
       "\n",
       "    .dataframe tbody tr th {\n",
       "        vertical-align: top;\n",
       "    }\n",
       "</style>\n",
       "<table border=\"1\" class=\"dataframe\">\n",
       "  <thead>\n",
       "    <tr style=\"text-align: right;\">\n",
       "      <th></th>\n",
       "      <th>villageid</th>\n",
       "      <th>latitude</th>\n",
       "      <th>longitude</th>\n",
       "      <th>city</th>\n",
       "      <th>state</th>\n",
       "      <th>distance</th>\n",
       "    </tr>\n",
       "  </thead>\n",
       "  <tbody>\n",
       "    <tr>\n",
       "      <th>40</th>\n",
       "      <td>41</td>\n",
       "      <td>19.04735</td>\n",
       "      <td>73.95509</td>\n",
       "      <td>Pimpri-Chinchwad</td>\n",
       "      <td>MAHARASHTRA</td>\n",
       "      <td>49.036032</td>\n",
       "    </tr>\n",
       "    <tr>\n",
       "      <th>90</th>\n",
       "      <td>91</td>\n",
       "      <td>27.02380</td>\n",
       "      <td>74.21793</td>\n",
       "      <td>AJMER</td>\n",
       "      <td>RAJASTHAN</td>\n",
       "      <td>30.915582</td>\n",
       "    </tr>\n",
       "    <tr>\n",
       "      <th>238</th>\n",
       "      <td>240</td>\n",
       "      <td>10.08828</td>\n",
       "      <td>77.95673</td>\n",
       "      <td>MADURAI</td>\n",
       "      <td>TAMIL NADU</td>\n",
       "      <td>26.085259</td>\n",
       "    </tr>\n",
       "    <tr>\n",
       "      <th>79</th>\n",
       "      <td>80</td>\n",
       "      <td>21.51092</td>\n",
       "      <td>80.54940</td>\n",
       "      <td>Rajnandgaon</td>\n",
       "      <td>CHHATTISGARH</td>\n",
       "      <td>67.736519</td>\n",
       "    </tr>\n",
       "    <tr>\n",
       "      <th>78</th>\n",
       "      <td>79</td>\n",
       "      <td>21.51092</td>\n",
       "      <td>80.54940</td>\n",
       "      <td>Rajnandgaon</td>\n",
       "      <td>CHHATTISGARH</td>\n",
       "      <td>67.736519</td>\n",
       "    </tr>\n",
       "  </tbody>\n",
       "</table>\n",
       "</div>"
      ],
      "text/plain": [
       "     villageid  latitude  longitude              city         state   distance\n",
       "40          41  19.04735   73.95509  Pimpri-Chinchwad   MAHARASHTRA  49.036032\n",
       "90          91  27.02380   74.21793             AJMER     RAJASTHAN  30.915582\n",
       "238        240  10.08828   77.95673           MADURAI    TAMIL NADU  26.085259\n",
       "79          80  21.51092   80.54940       Rajnandgaon  CHHATTISGARH  67.736519\n",
       "78          79  21.51092   80.54940       Rajnandgaon  CHHATTISGARH  67.736519"
      ]
     },
     "execution_count": 2,
     "metadata": {},
     "output_type": "execute_result"
    }
   ],
   "source": [
    "a = find_closest(\"village_coords_414.csv\", \"mc_coords_v2_june2017.csv\")\n",
    "a.to_csv(\"output/village_coords_414_mc_coords_tn_june2017.csv\", index=False)\n",
    "a.sample(n=5)"
   ]
  },
  {
   "cell_type": "code",
   "execution_count": 3,
   "metadata": {},
   "outputs": [
    {
     "data": {
      "text/plain": [
       "<matplotlib.axes._subplots.AxesSubplot at 0x10c9e43c8>"
      ]
     },
     "execution_count": 3,
     "metadata": {},
     "output_type": "execute_result"
    },
    {
     "data": {
      "image/png": "[encoded data removed]",
      "text/plain": [
       "<matplotlib.figure.Figure at 0x109f8e4a8>"
      ]
     },
     "metadata": {},
     "output_type": "display_data"
    }
   ],
   "source": [
    "sns.distplot(a.distance)"
   ]
  },
  {
   "cell_type": "markdown",
   "metadata": {},
   "source": [
    "Repeat this for (b) village_list_tndata_coords_small AND mc_coords_tn_june2017 "
   ]
  },
  {
   "cell_type": "code",
   "execution_count": 4,
   "metadata": {},
   "outputs": [
    {
     "data": {
      "text/html": [
       "<div>\n",
       "<style>\n",
       "    .dataframe thead tr:only-child th {\n",
       "        text-align: right;\n",
       "    }\n",
       "\n",
       "    .dataframe thead th {\n",
       "        text-align: left;\n",
       "    }\n",
       "\n",
       "    .dataframe tbody tr th {\n",
       "        vertical-align: top;\n",
       "    }\n",
       "</style>\n",
       "<table border=\"1\" class=\"dataframe\">\n",
       "  <thead>\n",
       "    <tr style=\"text-align: right;\">\n",
       "      <th></th>\n",
       "      <th>district</th>\n",
       "      <th>tehsil</th>\n",
       "      <th>psu</th>\n",
       "      <th>SUB_DISTRI</th>\n",
       "      <th>longitude</th>\n",
       "      <th>latitude</th>\n",
       "      <th>city</th>\n",
       "      <th>state</th>\n",
       "      <th>distance</th>\n",
       "    </tr>\n",
       "  </thead>\n",
       "  <tbody>\n",
       "    <tr>\n",
       "      <th>143</th>\n",
       "      <td>Thanjavur</td>\n",
       "      <td>Pattukkottai</td>\n",
       "      <td>149</td>\n",
       "      <td>Pattukkottai</td>\n",
       "      <td>79.345664</td>\n",
       "      <td>10.406026</td>\n",
       "      <td>THANJAVUR</td>\n",
       "      <td>TAMIL NADU</td>\n",
       "      <td>15.549291</td>\n",
       "    </tr>\n",
       "    <tr>\n",
       "      <th>101</th>\n",
       "      <td>Coimbatore</td>\n",
       "      <td>Udumalaipettai</td>\n",
       "      <td>107</td>\n",
       "      <td>Udumalaipettai</td>\n",
       "      <td>77.232331</td>\n",
       "      <td>10.523249</td>\n",
       "      <td>COIMBATORE</td>\n",
       "      <td>TAMIL NADU</td>\n",
       "      <td>55.573805</td>\n",
       "    </tr>\n",
       "    <tr>\n",
       "      <th>24</th>\n",
       "      <td>Vellore</td>\n",
       "      <td>Vaniyambadi</td>\n",
       "      <td>27</td>\n",
       "      <td>Vaniyambadi</td>\n",
       "      <td>78.694728</td>\n",
       "      <td>12.684822</td>\n",
       "      <td>Vellore</td>\n",
       "      <td>TAMIL NADU</td>\n",
       "      <td>41.014472</td>\n",
       "    </tr>\n",
       "    <tr>\n",
       "      <th>156</th>\n",
       "      <td>Pudukkottai</td>\n",
       "      <td>Pudukkottai</td>\n",
       "      <td>163</td>\n",
       "      <td>Pudukkottai</td>\n",
       "      <td>78.904825</td>\n",
       "      <td>10.452664</td>\n",
       "      <td>THANJAVUR</td>\n",
       "      <td>TAMIL NADU</td>\n",
       "      <td>12.194226</td>\n",
       "    </tr>\n",
       "    <tr>\n",
       "      <th>109</th>\n",
       "      <td>Tiruchirappalli</td>\n",
       "      <td>Musiri</td>\n",
       "      <td>115</td>\n",
       "      <td>Musiri</td>\n",
       "      <td>78.513044</td>\n",
       "      <td>11.041505</td>\n",
       "      <td>TRICHY</td>\n",
       "      <td>TAMIL NADU</td>\n",
       "      <td>55.573805</td>\n",
       "    </tr>\n",
       "  </tbody>\n",
       "</table>\n",
       "</div>"
      ],
      "text/plain": [
       "            district          tehsil  psu      SUB_DISTRI  longitude  \\\n",
       "143        Thanjavur    Pattukkottai  149    Pattukkottai  79.345664   \n",
       "101       Coimbatore  Udumalaipettai  107  Udumalaipettai  77.232331   \n",
       "24           Vellore     Vaniyambadi   27     Vaniyambadi  78.694728   \n",
       "156      Pudukkottai     Pudukkottai  163     Pudukkottai  78.904825   \n",
       "109  Tiruchirappalli          Musiri  115          Musiri  78.513044   \n",
       "\n",
       "      latitude        city       state   distance  \n",
       "143  10.406026   THANJAVUR  TAMIL NADU  15.549291  \n",
       "101  10.523249  COIMBATORE  TAMIL NADU  55.573805  \n",
       "24   12.684822     Vellore  TAMIL NADU  41.014472  \n",
       "156  10.452664   THANJAVUR  TAMIL NADU  12.194226  \n",
       "109  11.041505      TRICHY  TAMIL NADU  55.573805  "
      ]
     },
     "execution_count": 4,
     "metadata": {},
     "output_type": "execute_result"
    }
   ],
   "source": [
    "b = find_closest(\"village_list_tndata_coords_small.csv\", \"mc_coords_tn_june2017.csv\")\n",
    "b.to_csv(\"output/village_list_tndata_coords_small_mc_coords_tn_june2017.csv\", index=False)\n",
    "b.sample(n=5)"
   ]
  },
  {
   "cell_type": "code",
   "execution_count": 5,
   "metadata": {},
   "outputs": [
    {
     "data": {
      "text/plain": [
       "<matplotlib.axes._subplots.AxesSubplot at 0x10cb04be0>"
      ]
     },
     "execution_count": 5,
     "metadata": {},
     "output_type": "execute_result"
    },
    {
     "data": {
      "image/png": "[encoded data removed]",
      "text/plain": [
       "<matplotlib.figure.Figure at 0x10cafac18>"
      ]
     },
     "metadata": {},
     "output_type": "display_data"
    }
   ],
   "source": [
    "sns.distplot(b.distance)"
   ]
  },
  {
   "cell_type": "code",
   "execution_count": 6,
   "metadata": {},
   "outputs": [
    {
     "data": {
      "text/html": [
       "<div>\n",
       "<style>\n",
       "    .dataframe thead tr:only-child th {\n",
       "        text-align: right;\n",
       "    }\n",
       "\n",
       "    .dataframe thead th {\n",
       "        text-align: left;\n",
       "    }\n",
       "\n",
       "    .dataframe tbody tr th {\n",
       "        vertical-align: top;\n",
       "    }\n",
       "</style>\n",
       "<table border=\"1\" class=\"dataframe\">\n",
       "  <thead>\n",
       "    <tr style=\"text-align: right;\">\n",
       "      <th></th>\n",
       "      <th>district</th>\n",
       "      <th>tehsil</th>\n",
       "      <th>psu</th>\n",
       "      <th>SUB_DISTRI</th>\n",
       "      <th>longitude</th>\n",
       "      <th>latitude</th>\n",
       "      <th>city</th>\n",
       "      <th>state</th>\n",
       "      <th>distance</th>\n",
       "    </tr>\n",
       "  </thead>\n",
       "  <tbody>\n",
       "    <tr>\n",
       "      <th>0</th>\n",
       "      <td>Thiruvallur</td>\n",
       "      <td>Thiruvallur</td>\n",
       "      <td>1</td>\n",
       "      <td>Thiruvallur</td>\n",
       "      <td>79.897859</td>\n",
       "      <td>13.122751</td>\n",
       "      <td>KANCHIPURAM</td>\n",
       "      <td>TAMIL NADU</td>\n",
       "      <td>38.252366</td>\n",
       "    </tr>\n",
       "    <tr>\n",
       "      <th>2</th>\n",
       "      <td>Thiruvallur</td>\n",
       "      <td>Thiruvallur</td>\n",
       "      <td>4</td>\n",
       "      <td>Thiruvallur</td>\n",
       "      <td>79.897859</td>\n",
       "      <td>13.122751</td>\n",
       "      <td>KANCHIPURAM</td>\n",
       "      <td>TAMIL NADU</td>\n",
       "      <td>42.748190</td>\n",
       "    </tr>\n",
       "    <tr>\n",
       "      <th>3</th>\n",
       "      <td>Thiruvallur</td>\n",
       "      <td>Thiruvallur</td>\n",
       "      <td>5</td>\n",
       "      <td>Thiruvallur</td>\n",
       "      <td>79.897859</td>\n",
       "      <td>13.122751</td>\n",
       "      <td>KANCHIPURAM</td>\n",
       "      <td>TAMIL NADU</td>\n",
       "      <td>38.252366</td>\n",
       "    </tr>\n",
       "    <tr>\n",
       "      <th>4</th>\n",
       "      <td>Kancheepuram</td>\n",
       "      <td>Maduranthakam</td>\n",
       "      <td>6</td>\n",
       "      <td>Maduranthakam</td>\n",
       "      <td>79.841055</td>\n",
       "      <td>12.462654</td>\n",
       "      <td>KANCHIPURAM</td>\n",
       "      <td>TAMIL NADU</td>\n",
       "      <td>38.252366</td>\n",
       "    </tr>\n",
       "    <tr>\n",
       "      <th>5</th>\n",
       "      <td>Kancheepuram</td>\n",
       "      <td>Kancheepuram</td>\n",
       "      <td>7</td>\n",
       "      <td>Kancheepuram</td>\n",
       "      <td>79.745833</td>\n",
       "      <td>12.832639</td>\n",
       "      <td>KANCHIPURAM</td>\n",
       "      <td>TAMIL NADU</td>\n",
       "      <td>43.727371</td>\n",
       "    </tr>\n",
       "  </tbody>\n",
       "</table>\n",
       "</div>"
      ],
      "text/plain": [
       "       district         tehsil  psu     SUB_DISTRI  longitude   latitude  \\\n",
       "0   Thiruvallur    Thiruvallur    1    Thiruvallur  79.897859  13.122751   \n",
       "2   Thiruvallur    Thiruvallur    4    Thiruvallur  79.897859  13.122751   \n",
       "3   Thiruvallur    Thiruvallur    5    Thiruvallur  79.897859  13.122751   \n",
       "4  Kancheepuram  Maduranthakam    6  Maduranthakam  79.841055  12.462654   \n",
       "5  Kancheepuram   Kancheepuram    7   Kancheepuram  79.745833  12.832639   \n",
       "\n",
       "          city       state   distance  \n",
       "0  KANCHIPURAM  TAMIL NADU  38.252366  \n",
       "2  KANCHIPURAM  TAMIL NADU  42.748190  \n",
       "3  KANCHIPURAM  TAMIL NADU  38.252366  \n",
       "4  KANCHIPURAM  TAMIL NADU  38.252366  \n",
       "5  KANCHIPURAM  TAMIL NADU  43.727371  "
      ]
     },
     "execution_count": 6,
     "metadata": {},
     "output_type": "execute_result"
    }
   ],
   "source": [
    "c = find_closest(\"village_list_tndata_coords_small.csv\", \"pop100plus_coords_tn_june2017.csv\")\n",
    "c.to_csv(\"output/village_list_tndata_coords_small_pop100plus_coords_tn_june2017.csv\", index=False)\n",
    "c.head()"
   ]
  },
  {
   "cell_type": "code",
   "execution_count": 7,
   "metadata": {},
   "outputs": [
    {
     "data": {
      "text/plain": [
       "<matplotlib.axes._subplots.AxesSubplot at 0x10cbddd30>"
      ]
     },
     "execution_count": 7,
     "metadata": {},
     "output_type": "execute_result"
    },
    {
     "data": {
      "image/png": "[encoded data removed]",
      "text/plain": [
       "<matplotlib.figure.Figure at 0x10c9ef7f0>"
      ]
     },
     "metadata": {},
     "output_type": "display_data"
    }
   ],
   "source": [
    "sns.distplot(c.distance)"
   ]
  },
  {
   "cell_type": "code",
   "execution_count": 8,
   "metadata": {},
   "outputs": [
    {
     "data": {
      "text/plain": [
       "<matplotlib.text.Text at 0x10cc75ba8>"
      ]
     },
     "execution_count": 8,
     "metadata": {},
     "output_type": "execute_result"
    },
    {
     "data": {
      "image/png": "[encoded data removed]",
      "text/plain": [
       "<matplotlib.figure.Figure at 0x10cd5cb38>"
      ]
     },
     "metadata": {},
     "output_type": "display_data"
    }
   ],
   "source": [
    "plt.scatter(a.longitude, a.latitude, label=\"a\")\n",
    "plt.scatter(b.longitude, b.latitude, label=\"b\")\n",
    "plt.legend()\n",
    "plt.ylabel(\"latitude\")\n",
    "plt.xlabel(\"longitude\")"
   ]
  }
 ],
 "metadata": {
  "kernelspec": {
   "display_name": "Python 3",
   "language": "python",
   "name": "python3"
  },
  "language_info": {
   "codemirror_mode": {
    "name": "ipython",
    "version": 3
   },
   "file_extension": ".py",
   "mimetype": "text/x-python",
   "name": "python",
   "nbconvert_exporter": "python",
   "pygments_lexer": "ipython3",
   "version": "3.6.1"
  }
 },
 "nbformat": 4,
 "nbformat_minor": 1
}
