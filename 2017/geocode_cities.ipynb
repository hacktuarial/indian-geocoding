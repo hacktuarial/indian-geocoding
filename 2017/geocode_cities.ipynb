{
 "cells": [
  {
   "cell_type": "code",
   "execution_count": 1,
   "metadata": {
    "collapsed": true
   },
   "outputs": [],
   "source": [
    "import pandas as pd\n",
    "from utils import *"
   ]
  },
  {
   "cell_type": "markdown",
   "metadata": {},
   "source": [
    "# 1. Coordinates of major cities"
   ]
  },
  {
   "cell_type": "code",
   "execution_count": 14,
   "metadata": {},
   "outputs": [
    {
     "name": "stdout",
     "output_type": "stream",
     "text": [
      "mc_coords_v2_june2017\n",
      "            city            state  MC  over_500k  over_1m  lat  longi\n",
      "0       SRINAGAR  JAMMU & KASHMIR   1        1.0      1.0  NaN    NaN\n",
      "1  Visakhapatnam   ANDHRA PRADESH   1        1.0      1.0  NaN    NaN\n",
      "2      NIZAMABAD   ANDHRA PRADESH   1        0.0      0.0  NaN    NaN\n",
      "3         GUNTUR   ANDHRA PRADESH   1        1.0      0.0  NaN    NaN\n",
      "4       WARANGAL        TELANGANA   1        1.0      0.0  NaN    NaN\n",
      "mc_coords_tn_june2017\n",
      "            city           state  MC  over_100k  over_500k  over_1m  lat  \\\n",
      "0  Visakhapatnam  ANDHRA PRADESH   1          1          1        1  NaN   \n",
      "1      NIZAMABAD  ANDHRA PRADESH   1          1          0        0  NaN   \n",
      "2         GUNTUR  ANDHRA PRADESH   1          1          1        0  NaN   \n",
      "3       WARANGAL       TELANGANA   1          1          1        0  NaN   \n",
      "4     VIJAYAWADA  ANDHRA PRADESH   1          1          1        1  NaN   \n",
      "\n",
      "   longi  \n",
      "0    NaN  \n",
      "1    NaN  \n",
      "2    NaN  \n",
      "3    NaN  \n",
      "4    NaN  \n",
      "pop100plus_coords_tn_june2017\n",
      "            city           state  MC  over_100k  over_500k  over_1m  lat  \\\n",
      "0  Visakhapatnam  ANDHRA PRADESH   1          1          1        1  NaN   \n",
      "1      NIZAMABAD  ANDHRA PRADESH   1          1          0        0  NaN   \n",
      "2         GUNTUR  ANDHRA PRADESH   1          1          1        0  NaN   \n",
      "3       WARANGAL       TELANGANA   1          1          1        0  NaN   \n",
      "4     VIJAYAWADA  ANDHRA PRADESH   1          1          1        1  NaN   \n",
      "\n",
      "   longi  \n",
      "0    NaN  \n",
      "1    NaN  \n",
      "2    NaN  \n",
      "3    NaN  \n",
      "4    NaN  \n"
     ]
    }
   ],
   "source": [
    "dfs = {}\n",
    "files = [\n",
    "    \"mc_coords_v2_june2017\", \n",
    "    \"mc_coords_tn_june2017\",\n",
    "    \"pop100plus_coords_tn_june2017\"\n",
    "]\n",
    "for f in files:\n",
    "    dfs[f] = pd.read_csv(\"/Users/timothysweetser/git/indian-geocoding/2017/data/raw/%s.csv\" % f)\n",
    "    dfs[f].columns = [x.replace(\" \", \"\") for x in dfs[f].columns]\n",
    "    print(f)\n",
    "    print(dfs[f].head())"
   ]
  },
  {
   "cell_type": "code",
   "execution_count": 15,
   "metadata": {
    "collapsed": true
   },
   "outputs": [],
   "source": [
    "for el in dfs:\n",
    "    df = dfs[el]\n",
    "    df.loc[:, \"imputed\"] = False\n",
    "    for idx, row in df.loc[pd.isnull(df[\"lat\"])].iterrows():\n",
    "        place = \", \".join([row[\"city\"], row[\"state\"]])\n",
    "        x = geocode_api(place)\n",
    "        df.loc[idx, \"lat\"] = x[\"geometry\"][\"location\"][\"lat\"]\n",
    "        df.loc[idx, \"longi\"] = x[\"geometry\"][\"location\"][\"lng\"]\n",
    "        df.loc[idx, \"imputed\"] = True\n",
    "    df.to_csv(\"/Users/timothysweetser/git/indian-geocoding/2017/data/processed/%s.csv\" % el)"
   ]
  },
  {
   "cell_type": "code",
   "execution_count": 17,
   "metadata": {},
   "outputs": [
    {
     "name": "stdout",
     "output_type": "stream",
     "text": [
      "mc_coords_v2_june2017\n",
      "city         0\n",
      "state        0\n",
      "MC           0\n",
      "over_500k    1\n",
      "over_1m      1\n",
      "lat          0\n",
      "longi        0\n",
      "imputed      0\n",
      "dtype: int64\n",
      "mc_coords_tn_june2017\n",
      "city         0\n",
      "state        0\n",
      "MC           0\n",
      "over_100k    0\n",
      "over_500k    0\n",
      "over_1m      0\n",
      "lat          0\n",
      "longi        0\n",
      "imputed      0\n",
      "dtype: int64\n",
      "pop100plus_coords_tn_june2017\n",
      "city         0\n",
      "state        0\n",
      "MC           0\n",
      "over_100k    0\n",
      "over_500k    0\n",
      "over_1m      0\n",
      "lat          0\n",
      "longi        0\n",
      "imputed      0\n",
      "dtype: int64\n"
     ]
    }
   ],
   "source": [
    "for el in dfs:\n",
    "    print(el)\n",
    "    print(dfs[el].isnull().sum())\n",
    "    assert dfs[el][[\"lat\", \"longi\"]].isnull().sum().sum() == 0"
   ]
  }
 ],
 "metadata": {
  "kernelspec": {
   "display_name": "Python 3",
   "language": "python",
   "name": "python3"
  },
  "language_info": {
   "codemirror_mode": {
    "name": "ipython",
    "version": 3
   },
   "file_extension": ".py",
   "mimetype": "text/x-python",
   "name": "python",
   "nbconvert_exporter": "python",
   "pygments_lexer": "ipython3",
   "version": "3.6.1"
  }
 },
 "nbformat": 4,
 "nbformat_minor": 2
}
