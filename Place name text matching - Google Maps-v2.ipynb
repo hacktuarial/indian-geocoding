{
 "cells": [
  {
   "cell_type": "code",
   "execution_count": 2,
   "metadata": {
    "collapsed": false
   },
   "outputs": [],
   "source": [
    "import pandas as pd\n",
    "import numpy as np\n",
    "import csv\n",
    "import pickle\n",
    "import geocoder\n",
    "import time\n",
    "from googlemaps import googlemaps \n",
    "gmaps = googlemaps.Client(tKey)"
   ]
  },
  {
   "cell_type": "markdown",
   "metadata": {},
   "source": [
    "# Text matching"
   ]
  },
  {
   "cell_type": "markdown",
   "metadata": {},
   "source": [
    "Read in the data"
   ]
  },
  {
   "cell_type": "code",
   "execution_count": 35,
   "metadata": {
    "collapsed": false
   },
   "outputs": [
    {
     "name": "stdout",
     "output_type": "stream",
     "text": [
      "15610\n",
      "15609\n",
      "     village_kin state_respondent\n",
      "0       A.KUNTLA   ANDHRA PRADESH\n",
      "1  AADAR SHNAGAR   MADHYA PRADESH\n",
      "2         AADARI          GUJARAT\n",
      "3           AADI          HARYANA\n",
      "4          AADRI          GUJARAT\n",
      "5      AADUTHRAI       TAMIL NADU\n",
      "6     AADUTHURAI       TAMIL NADU\n",
      "7    AAGAKAPURWA    UTTAR PRADESH\n",
      "8          AAGRA        RAJASTHAN\n",
      "9       AAKHEDDA        RAJASTHAN\n"
     ]
    }
   ],
   "source": [
    "rraw = pd.read_csv(\"/Users/timothysweetser/Box Sync/Anna/village_kin/kin_locations_clean.csv\", dtype=str)\n",
    "print len(rraw.index)\n",
    "rraw.dropna(inplace=True)\n",
    "print len(rraw.index)\n",
    "print rraw.head(10)\n"
   ]
  },
  {
   "cell_type": "markdown",
   "metadata": {},
   "source": [
    "### File input/output"
   ]
  },
  {
   "cell_type": "code",
   "execution_count": 45,
   "metadata": {
    "collapsed": false
   },
   "outputs": [],
   "source": [
    "def save_obj(obj, name ):\n",
    "    with open(name + '.pkl', 'wb') as f:\n",
    "        pickle.dump(obj, f, pickle.HIGHEST_PROTOCOL)\n",
    "\n",
    "def load_obj(name ):\n",
    "    with open(name + '.pkl', 'rb') as f:\n",
    "        return pickle.load(f)"
   ]
  },
  {
   "cell_type": "code",
   "execution_count": 8,
   "metadata": {
    "collapsed": true
   },
   "outputs": [],
   "source": [
    "k_no_response = 'no response from google API'\n",
    "def geocode_api(place):\n",
    "    # use google API directly, using API key\n",
    "    try: \n",
    "        gc = gmaps.geocode(place + ', INDIA')\n",
    "        time.sleep(2)\n",
    "        if len(gc) > 0:\n",
    "            return gc[0]\n",
    "        else:\n",
    "            return 'NA'\n",
    "    except:\n",
    "        return k_no_response\n",
    "\n",
    "def geocode_ip(place):\n",
    "    # use geocoder, which depends on IP address\n",
    "    gc = geocoder.google(place + ', INDIA')\n",
    "    time.sleep(2)\n",
    "    if gc.address == None:\n",
    "        return 'NA'\n",
    "    else:\n",
    "        return gc"
   ]
  },
  {
   "cell_type": "code",
   "execution_count": 40,
   "metadata": {
    "collapsed": true
   },
   "outputs": [],
   "source": [
    "matches = {}"
   ]
  },
  {
   "cell_type": "code",
   "execution_count": 41,
   "metadata": {
    "collapsed": false
   },
   "outputs": [],
   "source": [
    "for index, row in rraw.iterrows():\n",
    "    place_state = row.village_kin + \", \" + row.state_respondent\n",
    "    matches[place_state] = geocode_api(place_state)"
   ]
  },
  {
   "cell_type": "code",
   "execution_count": 46,
   "metadata": {
    "collapsed": false
   },
   "outputs": [
    {
     "name": "stdout",
     "output_type": "stream",
     "text": [
      "15608\n"
     ]
    }
   ],
   "source": [
    "print len(matches)\n",
    "save_obj(matches, \"/Users/timothysweetser/Box Sync/Anna/village_kin/matches_v2\")"
   ]
  },
  {
   "cell_type": "code",
   "execution_count": 47,
   "metadata": {
    "collapsed": false
   },
   "outputs": [
    {
     "name": "stdout",
     "output_type": "stream",
     "text": [
      "There are 14807 total\n",
      "15608 have been done \n",
      "There are -801 left to do\n"
     ]
    }
   ],
   "source": [
    "print \"There are %d total\" % raw.nunique()\n",
    "print \"%d have been done \" % len(matches)\n",
    "print \"There are %d left to do\" %(raw.nunique() - len(matches))"
   ]
  },
  {
   "cell_type": "code",
   "execution_count": 48,
   "metadata": {
    "collapsed": false
   },
   "outputs": [
    {
     "data": {
      "text/plain": [
       "u'Kagwad, Karnataka 591223, India'"
      ]
     },
     "execution_count": 48,
     "metadata": {},
     "output_type": "execute_result"
    }
   ],
   "source": [
    "matches[matches.keys()[15]]['formatted_address']"
   ]
  },
  {
   "cell_type": "code",
   "execution_count": 49,
   "metadata": {
    "collapsed": false
   },
   "outputs": [
    {
     "name": "stdout",
     "output_type": "stream",
     "text": [
      "16.6934794\n",
      "74.7225052\n"
     ]
    }
   ],
   "source": [
    "print matches[matches.keys()[15]]['geometry']['location']['lat']\n",
    "print matches[matches.keys()[15]]['geometry']['location']['lng']"
   ]
  },
  {
   "cell_type": "code",
   "execution_count": 64,
   "metadata": {
    "collapsed": false
   },
   "outputs": [
    {
     "data": {
      "text/html": [
       "<div>\n",
       "<table border=\"1\" class=\"dataframe\">\n",
       "  <thead>\n",
       "    <tr style=\"text-align: right;\">\n",
       "      <th></th>\n",
       "      <th>village_kin</th>\n",
       "      <th>state_respondent</th>\n",
       "      <th>GMaps match</th>\n",
       "      <th>latitude</th>\n",
       "      <th>longitude</th>\n",
       "    </tr>\n",
       "  </thead>\n",
       "  <tbody>\n",
       "    <tr>\n",
       "      <th>0</th>\n",
       "      <td>A.KUNTLA</td>\n",
       "      <td>ANDHRA PRADESH</td>\n",
       "      <td>Kavala Kuntla, Andhra Pradesh 523328, India</td>\n",
       "      <td>16.111966</td>\n",
       "      <td>79.419750</td>\n",
       "    </tr>\n",
       "    <tr>\n",
       "      <th>1</th>\n",
       "      <td>AADAR SHNAGAR</td>\n",
       "      <td>MADHYA PRADESH</td>\n",
       "      <td>Adarsh Nagar, Itawa, Dewas, Madhya Pradesh 455...</td>\n",
       "      <td>22.967510</td>\n",
       "      <td>76.076900</td>\n",
       "    </tr>\n",
       "    <tr>\n",
       "      <th>2</th>\n",
       "      <td>AADARI</td>\n",
       "      <td>GUJARAT</td>\n",
       "      <td>Safari Rd, Sandhbeda, Gujarat 362150, India</td>\n",
       "      <td>21.159211</td>\n",
       "      <td>70.509651</td>\n",
       "    </tr>\n",
       "    <tr>\n",
       "      <th>3</th>\n",
       "      <td>AADI</td>\n",
       "      <td>HARYANA</td>\n",
       "      <td>Adi's, Sector 11, Panchkula, Haryana 134117, I...</td>\n",
       "      <td>30.687012</td>\n",
       "      <td>76.849956</td>\n",
       "    </tr>\n",
       "    <tr>\n",
       "      <th>4</th>\n",
       "      <td>AADRI</td>\n",
       "      <td>GUJARAT</td>\n",
       "      <td>Adri, Gujarat 362255, India</td>\n",
       "      <td>20.964116</td>\n",
       "      <td>70.289546</td>\n",
       "    </tr>\n",
       "    <tr>\n",
       "      <th>5</th>\n",
       "      <td>AADUTHRAI</td>\n",
       "      <td>TAMIL NADU</td>\n",
       "      <td>Maruthuvakudi, Tamil Nadu, India</td>\n",
       "      <td>10.976147</td>\n",
       "      <td>79.326840</td>\n",
       "    </tr>\n",
       "    <tr>\n",
       "      <th>6</th>\n",
       "      <td>AADUTHURAI</td>\n",
       "      <td>TAMIL NADU</td>\n",
       "      <td>Maruthuvakudi, Tamil Nadu, India</td>\n",
       "      <td>10.976147</td>\n",
       "      <td>79.326840</td>\n",
       "    </tr>\n",
       "    <tr>\n",
       "      <th>7</th>\n",
       "      <td>AAGAKAPURWA</td>\n",
       "      <td>UTTAR PRADESH</td>\n",
       "      <td>Uttar Pradesh, India</td>\n",
       "      <td>26.846709</td>\n",
       "      <td>80.946159</td>\n",
       "    </tr>\n",
       "    <tr>\n",
       "      <th>8</th>\n",
       "      <td>AAGRA</td>\n",
       "      <td>RAJASTHAN</td>\n",
       "      <td>Agra, Rajasthan 323303, India</td>\n",
       "      <td>24.803434</td>\n",
       "      <td>75.405337</td>\n",
       "    </tr>\n",
       "    <tr>\n",
       "      <th>9</th>\n",
       "      <td>AAKHEDDA</td>\n",
       "      <td>RAJASTHAN</td>\n",
       "      <td>Rajasthan, India</td>\n",
       "      <td>27.023804</td>\n",
       "      <td>74.217933</td>\n",
       "    </tr>\n",
       "    <tr>\n",
       "      <th>10</th>\n",
       "      <td>AAKILI</td>\n",
       "      <td>RAJASTHAN</td>\n",
       "      <td>Rajasthan, India</td>\n",
       "      <td>27.023804</td>\n",
       "      <td>74.217933</td>\n",
       "    </tr>\n",
       "    <tr>\n",
       "      <th>11</th>\n",
       "      <td>AAKODE</td>\n",
       "      <td>KERALA</td>\n",
       "      <td>Akkode Rd, Vazhayur, Kerala, India</td>\n",
       "      <td>11.231626</td>\n",
       "      <td>75.907743</td>\n",
       "    </tr>\n",
       "    <tr>\n",
       "      <th>12</th>\n",
       "      <td>AALAMKHATUPUR</td>\n",
       "      <td>UTTAR PRADESH</td>\n",
       "      <td>Uttar Pradesh, India</td>\n",
       "      <td>26.846709</td>\n",
       "      <td>80.946159</td>\n",
       "    </tr>\n",
       "    <tr>\n",
       "      <th>13</th>\n",
       "      <td>AALI</td>\n",
       "      <td>HARYANA</td>\n",
       "      <td>Ali Brahman, Haryana 121106, India</td>\n",
       "      <td>27.918507</td>\n",
       "      <td>77.253447</td>\n",
       "    </tr>\n",
       "    <tr>\n",
       "      <th>14</th>\n",
       "      <td>AALUFACTORY</td>\n",
       "      <td>RAJASTHAN</td>\n",
       "      <td>Rajasthan, India</td>\n",
       "      <td>27.023804</td>\n",
       "      <td>74.217933</td>\n",
       "    </tr>\n",
       "    <tr>\n",
       "      <th>15</th>\n",
       "      <td>AALUFAICTRI</td>\n",
       "      <td>RAJASTHAN</td>\n",
       "      <td>Rajasthan, India</td>\n",
       "      <td>27.023804</td>\n",
       "      <td>74.217933</td>\n",
       "    </tr>\n",
       "    <tr>\n",
       "      <th>16</th>\n",
       "      <td>AAMAPAR</td>\n",
       "      <td>CHHATTISGARH</td>\n",
       "      <td>Chhattisgarh, India</td>\n",
       "      <td>21.278657</td>\n",
       "      <td>81.866144</td>\n",
       "    </tr>\n",
       "    <tr>\n",
       "      <th>17</th>\n",
       "      <td>AAMAPARA</td>\n",
       "      <td>CHHATTISGARH</td>\n",
       "      <td>Amapara, Raipur, Chhattisgarh, India</td>\n",
       "      <td>21.244691</td>\n",
       "      <td>81.625189</td>\n",
       "    </tr>\n",
       "    <tr>\n",
       "      <th>18</th>\n",
       "      <td>AAMGAUN</td>\n",
       "      <td>MADHYA PRADESH</td>\n",
       "      <td>Amgaon, Madhya Pradesh, India</td>\n",
       "      <td>22.861780</td>\n",
       "      <td>79.064072</td>\n",
       "    </tr>\n",
       "    <tr>\n",
       "      <th>19</th>\n",
       "      <td>AAMI REDDY WADI PALLI</td>\n",
       "      <td>ANDHRA PRADESH</td>\n",
       "      <td>Andhra Pradesh, India</td>\n",
       "      <td>15.912900</td>\n",
       "      <td>79.739987</td>\n",
       "    </tr>\n",
       "  </tbody>\n",
       "</table>\n",
       "</div>"
      ],
      "text/plain": [
       "              village_kin state_respondent  \\\n",
       "0                A.KUNTLA   ANDHRA PRADESH   \n",
       "1           AADAR SHNAGAR   MADHYA PRADESH   \n",
       "2                  AADARI          GUJARAT   \n",
       "3                    AADI          HARYANA   \n",
       "4                   AADRI          GUJARAT   \n",
       "5               AADUTHRAI       TAMIL NADU   \n",
       "6              AADUTHURAI       TAMIL NADU   \n",
       "7             AAGAKAPURWA    UTTAR PRADESH   \n",
       "8                   AAGRA        RAJASTHAN   \n",
       "9                AAKHEDDA        RAJASTHAN   \n",
       "10                 AAKILI        RAJASTHAN   \n",
       "11                 AAKODE           KERALA   \n",
       "12          AALAMKHATUPUR    UTTAR PRADESH   \n",
       "13                   AALI          HARYANA   \n",
       "14            AALUFACTORY        RAJASTHAN   \n",
       "15            AALUFAICTRI        RAJASTHAN   \n",
       "16                AAMAPAR     CHHATTISGARH   \n",
       "17               AAMAPARA     CHHATTISGARH   \n",
       "18                AAMGAUN   MADHYA PRADESH   \n",
       "19  AAMI REDDY WADI PALLI   ANDHRA PRADESH   \n",
       "\n",
       "                                          GMaps match   latitude  longitude  \n",
       "0         Kavala Kuntla, Andhra Pradesh 523328, India  16.111966  79.419750  \n",
       "1   Adarsh Nagar, Itawa, Dewas, Madhya Pradesh 455...  22.967510  76.076900  \n",
       "2         Safari Rd, Sandhbeda, Gujarat 362150, India  21.159211  70.509651  \n",
       "3   Adi's, Sector 11, Panchkula, Haryana 134117, I...  30.687012  76.849956  \n",
       "4                         Adri, Gujarat 362255, India  20.964116  70.289546  \n",
       "5                    Maruthuvakudi, Tamil Nadu, India  10.976147  79.326840  \n",
       "6                    Maruthuvakudi, Tamil Nadu, India  10.976147  79.326840  \n",
       "7                                Uttar Pradesh, India  26.846709  80.946159  \n",
       "8                       Agra, Rajasthan 323303, India  24.803434  75.405337  \n",
       "9                                    Rajasthan, India  27.023804  74.217933  \n",
       "10                                   Rajasthan, India  27.023804  74.217933  \n",
       "11                 Akkode Rd, Vazhayur, Kerala, India  11.231626  75.907743  \n",
       "12                               Uttar Pradesh, India  26.846709  80.946159  \n",
       "13                 Ali Brahman, Haryana 121106, India  27.918507  77.253447  \n",
       "14                                   Rajasthan, India  27.023804  74.217933  \n",
       "15                                   Rajasthan, India  27.023804  74.217933  \n",
       "16                                Chhattisgarh, India  21.278657  81.866144  \n",
       "17               Amapara, Raipur, Chhattisgarh, India  21.244691  81.625189  \n",
       "18                      Amgaon, Madhya Pradesh, India  22.861780  79.064072  \n",
       "19                              Andhra Pradesh, India  15.912900  79.739987  "
      ]
     },
     "execution_count": 64,
     "metadata": {},
     "output_type": "execute_result"
    }
   ],
   "source": [
    "matches_select = {}\n",
    "for place, val in matches.iteritems():\n",
    "    if type(val) == dict:\n",
    "        matches_select[place] = {'GMaps match':val['formatted_address'], \\\n",
    "            'latitude':val['geometry']['location']['lat'], 'longitude':val['geometry']['location']['lng']}\n",
    "    else:\n",
    "        matches_select[place] = {'GMaps match': 'NA', 'latitude':np.nan, 'longitude':np.nan}\n",
    "        \n",
    "matches_select = pd.DataFrame.from_dict(matches_select, orient='index').reset_index()\n",
    "matches_select.rename(columns={'index':'village_kin'}, inplace=True)\n",
    "matches_select['state_respondent'] = matches_select['village_kin'].apply(lambda x: x.split(\",\")[1])\n",
    "matches_select['village_kin'] = matches_select['village_kin'].apply(lambda x: x.split(\",\")[0])\n",
    "# reorder columns\n",
    "matches_select = matches_select[['village_kin', 'state_respondent', 'GMaps match', 'latitude', 'longitude']]\n",
    "matches_select.head(20)"
   ]
  },
  {
   "cell_type": "code",
   "execution_count": 65,
   "metadata": {
    "collapsed": false
   },
   "outputs": [],
   "source": [
    "matches_select.to_csv('/Users/timothysweetser/Box Sync/Anna/village_kin/google maps suggestions lat long v2.txt', \\\n",
    "                    sep='\\t', index=False, encoding='utf-8')"
   ]
  }
 ],
 "metadata": {
  "kernelspec": {
   "display_name": "Python 2",
   "language": "python",
   "name": "python2"
  },
  "language_info": {
   "codemirror_mode": {
    "name": "ipython",
    "version": 2
   },
   "file_extension": ".py",
   "mimetype": "text/x-python",
   "name": "python",
   "nbconvert_exporter": "python",
   "pygments_lexer": "ipython2",
   "version": "2.7.10"
  }
 },
 "nbformat": 4,
 "nbformat_minor": 0
}
