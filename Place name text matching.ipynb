{
 "cells": [
  {
   "cell_type": "code",
   "execution_count": 1,
   "metadata": {
    "collapsed": false
   },
   "outputs": [],
   "source": [
    "import pandas as pd\n",
    "import numpy as np\n",
    "import csv\n",
    "import Levenshtein"
   ]
  },
  {
   "cell_type": "markdown",
   "metadata": {},
   "source": [
    "# Text matching"
   ]
  },
  {
   "cell_type": "markdown",
   "metadata": {},
   "source": [
    "Read in the data"
   ]
  },
  {
   "cell_type": "code",
   "execution_count": 10,
   "metadata": {
    "collapsed": false
   },
   "outputs": [
    {
     "data": {
      "text/html": [
       "<div>\n",
       "<table border=\"1\" class=\"dataframe\">\n",
       "  <thead>\n",
       "    <tr style=\"text-align: right;\">\n",
       "      <th></th>\n",
       "      <th>name_short</th>\n",
       "      <th>state</th>\n",
       "    </tr>\n",
       "  </thead>\n",
       "  <tbody>\n",
       "    <tr>\n",
       "      <th>0</th>\n",
       "      <td>AGRA</td>\n",
       "      <td>UTTAR PRADESH</td>\n",
       "    </tr>\n",
       "    <tr>\n",
       "      <th>1</th>\n",
       "      <td>AHMADABAD</td>\n",
       "      <td>GUJARAT</td>\n",
       "    </tr>\n",
       "    <tr>\n",
       "      <th>2</th>\n",
       "      <td>AHMADNAGAR</td>\n",
       "      <td>MAHARASHTRA</td>\n",
       "    </tr>\n",
       "    <tr>\n",
       "      <th>3</th>\n",
       "      <td>AJMER</td>\n",
       "      <td>RAJASTHAN</td>\n",
       "    </tr>\n",
       "    <tr>\n",
       "      <th>4</th>\n",
       "      <td>AKOLA</td>\n",
       "      <td>MAHARASHTRA</td>\n",
       "    </tr>\n",
       "  </tbody>\n",
       "</table>\n",
       "</div>"
      ],
      "text/plain": [
       "   name_short          state\n",
       "0        AGRA  UTTAR PRADESH\n",
       "1   AHMADABAD        GUJARAT\n",
       "2  AHMADNAGAR    MAHARASHTRA\n",
       "3       AJMER      RAJASTHAN\n",
       "4       AKOLA    MAHARASHTRA"
      ]
     },
     "execution_count": 10,
     "metadata": {},
     "output_type": "execute_result"
    }
   ],
   "source": [
    "rraw = pd.read_csv(\"/Users/timothysweetser/Box Sync/Anna/village_kin/kin_locations.csv\", dtype=str)\n",
    "raw = rraw['village_kin']\n",
    "raw = raw[~pd.isnull(raw)]\n",
    "clean = pd.read_csv(\"/Users/timothysweetser/Box Sync/Anna/village_kin/clean_names.csv\", dtype=str)\n",
    "clean['state'][pd.isnull(clean['state'])] = 'NONE'\n",
    "#clean = clean['name_short']\n",
    "clean.head()"
   ]
  },
  {
   "cell_type": "code",
   "execution_count": 11,
   "metadata": {
    "collapsed": false
   },
   "outputs": [],
   "source": [
    "matches = {}\n",
    "for raw_name in raw:\n",
    "    matches[raw_name] = {}\n",
    "    for index, row in clean.iterrows():\n",
    "        clean_name = row['name_short']\n",
    "        key = ', '.join(row) # city, state\n",
    "        \n",
    "        # the first letters MUST match\n",
    "        if raw_name[0] != clean_name[0]:\n",
    "            matches[raw_name][key] = np.inf\n",
    "        else:\n",
    "            matches[raw_name][key] = Levenshtein.distance(raw_name, clean_name)"
   ]
  },
  {
   "cell_type": "code",
   "execution_count": 12,
   "metadata": {
    "collapsed": false
   },
   "outputs": [],
   "source": [
    "results = {}\n",
    "from scipy.stats import rankdata\n",
    "for raw_name in matches.keys():\n",
    "    min_value = min(matches[raw_name].itervalues())\n",
    "    min_keys = [k for k in matches[raw_name] if matches[raw_name][k] == min_value]\n",
    "    results[raw_name] = ';'.join(min_keys)"
   ]
  },
  {
   "cell_type": "code",
   "execution_count": 14,
   "metadata": {
    "collapsed": false
   },
   "outputs": [
    {
     "name": "stdout",
     "output_type": "stream",
     "text": [
      "15669\n",
      "15668\n"
     ]
    },
    {
     "data": {
      "text/html": [
       "<div>\n",
       "<table border=\"1\" class=\"dataframe\">\n",
       "  <thead>\n",
       "    <tr style=\"text-align: right;\">\n",
       "      <th></th>\n",
       "      <th>village_kin</th>\n",
       "      <th>state_respondent</th>\n",
       "      <th>suggestions</th>\n",
       "    </tr>\n",
       "  </thead>\n",
       "  <tbody>\n",
       "    <tr>\n",
       "      <th>0</th>\n",
       "      <td>CHAMARAM</td>\n",
       "      <td>WEST BENGAL</td>\n",
       "      <td>CUDDAPAH, ANDHRA PRADESH;CHENNAI, TAMIL NADU</td>\n",
       "    </tr>\n",
       "    <tr>\n",
       "      <th>1</th>\n",
       "      <td>PUDARIPATTY</td>\n",
       "      <td>TAMIL NADU</td>\n",
       "      <td>PURNIA, BIHAR;PATIALA, PUNJAB</td>\n",
       "    </tr>\n",
       "    <tr>\n",
       "      <th>2</th>\n",
       "      <td>KHUHUN</td>\n",
       "      <td>HIMACHAL PRADESH</td>\n",
       "      <td>KALYAN, MAHARASHTRA;KOCHI, KERALA;KANPUR, UTTA...</td>\n",
       "    </tr>\n",
       "    <tr>\n",
       "      <th>3</th>\n",
       "      <td>GOLAGUDAM</td>\n",
       "      <td>MAHARASHTRA</td>\n",
       "      <td>GORAKHPUR, UTTAR PRADESH;GAYA, BIHAR;GULBARGA,...</td>\n",
       "    </tr>\n",
       "    <tr>\n",
       "      <th>4</th>\n",
       "      <td>PIPREE</td>\n",
       "      <td>MADHYA PRADESH</td>\n",
       "      <td>PUNE, MAHARASHTRA</td>\n",
       "    </tr>\n",
       "  </tbody>\n",
       "</table>\n",
       "</div>"
      ],
      "text/plain": [
       "   village_kin  state_respondent  \\\n",
       "0     CHAMARAM       WEST BENGAL   \n",
       "1  PUDARIPATTY        TAMIL NADU   \n",
       "2       KHUHUN  HIMACHAL PRADESH   \n",
       "3    GOLAGUDAM       MAHARASHTRA   \n",
       "4       PIPREE    MADHYA PRADESH   \n",
       "\n",
       "                                         suggestions  \n",
       "0       CUDDAPAH, ANDHRA PRADESH;CHENNAI, TAMIL NADU  \n",
       "1                      PURNIA, BIHAR;PATIALA, PUNJAB  \n",
       "2  KALYAN, MAHARASHTRA;KOCHI, KERALA;KANPUR, UTTA...  \n",
       "3  GORAKHPUR, UTTAR PRADESH;GAYA, BIHAR;GULBARGA,...  \n",
       "4                                  PUNE, MAHARASHTRA  "
      ]
     },
     "execution_count": 14,
     "metadata": {},
     "output_type": "execute_result"
    }
   ],
   "source": [
    "resultsDF = pd.DataFrame.from_dict(results, orient='index').reset_index()\n",
    "resultsDF.columns = ['village_kin', 'suggestions']\n",
    "resultsDF = resultsDF.merge(rraw, 'inner', 'village_kin')\n",
    "\n",
    "print len(rraw.index)\n",
    "print len(resultsDF.index) # dropped 1 NA\n",
    "resultsDF = resultsDF[['village_kin', 'state_respondent', 'suggestions']]\n",
    "resultsDF.head()"
   ]
  },
  {
   "cell_type": "code",
   "execution_count": 16,
   "metadata": {
    "collapsed": true
   },
   "outputs": [],
   "source": [
    "# write to file\n",
    "filename = \"/Users/timothysweetser/Box Sync/Anna/village_kin/suggestions.txt\"\n",
    "#f = open(filename, 'w')\n",
    "#f.write(\"raw_name, suggestions\\n\")\n",
    "#for index, row in resultsDF.iterrows():\n",
    "#    f.write(row['raw_name'] + \",\" + row['suggestions'] + \"\\n\")\n",
    "#f.close()\n",
    "resultsDF.to_csv(filename, sep=\"\\t\", index=False)"
   ]
  },
  {
   "cell_type": "code",
   "execution_count": null,
   "metadata": {
    "collapsed": true
   },
   "outputs": [],
   "source": []
  }
 ],
 "metadata": {
  "kernelspec": {
   "display_name": "Python 2",
   "language": "python",
   "name": "python2"
  },
  "language_info": {
   "codemirror_mode": {
    "name": "ipython",
    "version": 2
   },
   "file_extension": ".py",
   "mimetype": "text/x-python",
   "name": "python",
   "nbconvert_exporter": "python",
   "pygments_lexer": "ipython2",
   "version": "2.7.10"
  }
 },
 "nbformat": 4,
 "nbformat_minor": 0
}
